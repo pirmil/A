{
 "cells": [
  {
   "cell_type": "code",
   "execution_count": 38,
   "metadata": {},
   "outputs": [],
   "source": [
    "import pandas as pd\n",
    "import random\n",
    "import numpy as np\n",
    "import matplotlib.pyplot as plt\n",
    "import seaborn as sns\n",
    "from sklearn.metrics.pairwise import cosine_similarity\n",
    "import torch\n",
    "import transformers\n",
    "import sentence_transformers\n",
    "from sentence_transformers import SentenceTransformer\n",
    "from transformers import AutoModel, AutoTokenizer\n",
    "from transformer_helper import get_token_counts, get_embeddings\n",
    "from data_helper import select_first_n_occurences, main, main_2_pos_2_neg\n",
    "device = 'cuda' if torch.cuda.is_available() else 'cpu'"
   ]
  },
  {
   "cell_type": "code",
   "execution_count": 2,
   "metadata": {},
   "outputs": [
    {
     "name": "stdout",
     "output_type": "stream",
     "text": [
      "20 rows\n",
      "30 rows\n"
     ]
    }
   ],
   "source": [
    "col = \"StoryBody\"\n",
    "df = main()\n",
    "df0 = df.copy()\n",
    "df_bis = main_2_pos_2_neg()\n",
    "df_bis_sbert = df_bis.copy()"
   ]
  },
  {
   "cell_type": "code",
   "execution_count": 3,
   "metadata": {},
   "outputs": [],
   "source": [
    "model_path = 'Alibaba-NLP/gte-base-en-v1.5'\n",
    "tokenizer = AutoTokenizer.from_pretrained(model_path)\n",
    "model = AutoModel.from_pretrained(model_path, trust_remote_code=True).to(device)"
   ]
  },
  {
   "cell_type": "code",
   "execution_count": 4,
   "metadata": {},
   "outputs": [],
   "source": [
    "sentence_model = SentenceTransformer('sentence-transformers/all-MiniLM-L6-v2')"
   ]
  },
  {
   "cell_type": "markdown",
   "metadata": {},
   "source": [
    "# First example"
   ]
  },
  {
   "cell_type": "code",
   "execution_count": 5,
   "metadata": {},
   "outputs": [
    {
     "data": {
      "text/html": [
       "<div>\n",
       "<style scoped>\n",
       "    .dataframe tbody tr th:only-of-type {\n",
       "        vertical-align: middle;\n",
       "    }\n",
       "\n",
       "    .dataframe tbody tr th {\n",
       "        vertical-align: top;\n",
       "    }\n",
       "\n",
       "    .dataframe thead tr th {\n",
       "        text-align: left;\n",
       "    }\n",
       "</style>\n",
       "<table border=\"1\" class=\"dataframe\">\n",
       "  <thead>\n",
       "    <tr>\n",
       "      <th></th>\n",
       "      <th colspan=\"2\" halign=\"left\">df</th>\n",
       "      <th colspan=\"2\" halign=\"left\">df_max_3_occ</th>\n",
       "    </tr>\n",
       "    <tr>\n",
       "      <th></th>\n",
       "      <th>StoryBody</th>\n",
       "      <th>id_qis</th>\n",
       "      <th>StoryBody</th>\n",
       "      <th>id_qis</th>\n",
       "    </tr>\n",
       "  </thead>\n",
       "  <tbody>\n",
       "    <tr>\n",
       "      <th>0</th>\n",
       "      <td>This is quite rare.</td>\n",
       "      <td>id2</td>\n",
       "      <td>This is quite rare.</td>\n",
       "      <td>id2</td>\n",
       "    </tr>\n",
       "    <tr>\n",
       "      <th>1</th>\n",
       "      <td>This stock is overrated.</td>\n",
       "      <td>id1</td>\n",
       "      <td>This stock is overrated.</td>\n",
       "      <td>id1</td>\n",
       "    </tr>\n",
       "    <tr>\n",
       "      <th>2</th>\n",
       "      <td>The CEO is completely crazy.</td>\n",
       "      <td>id1</td>\n",
       "      <td>The CEO is completely crazy.</td>\n",
       "      <td>id1</td>\n",
       "    </tr>\n",
       "    <tr>\n",
       "      <th>3</th>\n",
       "      <td>I would like to buy their items.</td>\n",
       "      <td>id2</td>\n",
       "      <td>I would like to buy their items.</td>\n",
       "      <td>id2</td>\n",
       "    </tr>\n",
       "    <tr>\n",
       "      <th>4</th>\n",
       "      <td>This stock is overrated.</td>\n",
       "      <td>id1</td>\n",
       "      <td>This stock is overrated.</td>\n",
       "      <td>id1</td>\n",
       "    </tr>\n",
       "    <tr>\n",
       "      <th>5</th>\n",
       "      <td>What a surprising deal.</td>\n",
       "      <td>id1</td>\n",
       "      <td>What a surprising deal.</td>\n",
       "      <td>id1</td>\n",
       "    </tr>\n",
       "    <tr>\n",
       "      <th>6</th>\n",
       "      <td>This is quite rare.</td>\n",
       "      <td>id2</td>\n",
       "      <td>This is quite rare.</td>\n",
       "      <td>id2</td>\n",
       "    </tr>\n",
       "    <tr>\n",
       "      <th>7</th>\n",
       "      <td>I love this firm.</td>\n",
       "      <td>id2</td>\n",
       "      <td>I love this firm.</td>\n",
       "      <td>id2</td>\n",
       "    </tr>\n",
       "    <tr>\n",
       "      <th>8</th>\n",
       "      <td>I doubt they will make it.</td>\n",
       "      <td>id3</td>\n",
       "      <td>I doubt they will make it.</td>\n",
       "      <td>id3</td>\n",
       "    </tr>\n",
       "    <tr>\n",
       "      <th>9</th>\n",
       "      <td>This is quite rare.</td>\n",
       "      <td>id2</td>\n",
       "      <td>NaN</td>\n",
       "      <td>NaN</td>\n",
       "    </tr>\n",
       "    <tr>\n",
       "      <th>10</th>\n",
       "      <td>This has so much potential.</td>\n",
       "      <td>id3</td>\n",
       "      <td>This has so much potential.</td>\n",
       "      <td>id3</td>\n",
       "    </tr>\n",
       "    <tr>\n",
       "      <th>11</th>\n",
       "      <td>This new journey seems interesting.</td>\n",
       "      <td>id3</td>\n",
       "      <td>This new journey seems interesting.</td>\n",
       "      <td>id3</td>\n",
       "    </tr>\n",
       "    <tr>\n",
       "      <th>12</th>\n",
       "      <td>The CEO is completely crazy.</td>\n",
       "      <td>id1</td>\n",
       "      <td>The CEO is completely crazy.</td>\n",
       "      <td>id1</td>\n",
       "    </tr>\n",
       "    <tr>\n",
       "      <th>13</th>\n",
       "      <td>What a surprising deal.</td>\n",
       "      <td>id1</td>\n",
       "      <td>What a surprising deal.</td>\n",
       "      <td>id1</td>\n",
       "    </tr>\n",
       "    <tr>\n",
       "      <th>14</th>\n",
       "      <td>What a surprising deal.</td>\n",
       "      <td>id1</td>\n",
       "      <td>NaN</td>\n",
       "      <td>NaN</td>\n",
       "    </tr>\n",
       "    <tr>\n",
       "      <th>15</th>\n",
       "      <td>This has so much potential.</td>\n",
       "      <td>id3</td>\n",
       "      <td>This has so much potential.</td>\n",
       "      <td>id3</td>\n",
       "    </tr>\n",
       "    <tr>\n",
       "      <th>16</th>\n",
       "      <td>This is quite rare.</td>\n",
       "      <td>id2</td>\n",
       "      <td>NaN</td>\n",
       "      <td>NaN</td>\n",
       "    </tr>\n",
       "    <tr>\n",
       "      <th>17</th>\n",
       "      <td>I doubt they will make it.</td>\n",
       "      <td>id3</td>\n",
       "      <td>I doubt they will make it.</td>\n",
       "      <td>id3</td>\n",
       "    </tr>\n",
       "    <tr>\n",
       "      <th>18</th>\n",
       "      <td>I doubt they will make it.</td>\n",
       "      <td>id3</td>\n",
       "      <td>NaN</td>\n",
       "      <td>NaN</td>\n",
       "    </tr>\n",
       "    <tr>\n",
       "      <th>19</th>\n",
       "      <td>I would like to buy their items.</td>\n",
       "      <td>id2</td>\n",
       "      <td>I would like to buy their items.</td>\n",
       "      <td>id2</td>\n",
       "    </tr>\n",
       "  </tbody>\n",
       "</table>\n",
       "</div>"
      ],
      "text/plain": [
       "                                     df         \\\n",
       "                              StoryBody id_qis   \n",
       "0                   This is quite rare.    id2   \n",
       "1              This stock is overrated.    id1   \n",
       "2          The CEO is completely crazy.    id1   \n",
       "3      I would like to buy their items.    id2   \n",
       "4              This stock is overrated.    id1   \n",
       "5               What a surprising deal.    id1   \n",
       "6                   This is quite rare.    id2   \n",
       "7                     I love this firm.    id2   \n",
       "8            I doubt they will make it.    id3   \n",
       "9                   This is quite rare.    id2   \n",
       "10          This has so much potential.    id3   \n",
       "11  This new journey seems interesting.    id3   \n",
       "12         The CEO is completely crazy.    id1   \n",
       "13              What a surprising deal.    id1   \n",
       "14              What a surprising deal.    id1   \n",
       "15          This has so much potential.    id3   \n",
       "16                  This is quite rare.    id2   \n",
       "17           I doubt they will make it.    id3   \n",
       "18           I doubt they will make it.    id3   \n",
       "19     I would like to buy their items.    id2   \n",
       "\n",
       "                           df_max_3_occ         \n",
       "                              StoryBody id_qis  \n",
       "0                   This is quite rare.    id2  \n",
       "1              This stock is overrated.    id1  \n",
       "2          The CEO is completely crazy.    id1  \n",
       "3      I would like to buy their items.    id2  \n",
       "4              This stock is overrated.    id1  \n",
       "5               What a surprising deal.    id1  \n",
       "6                   This is quite rare.    id2  \n",
       "7                     I love this firm.    id2  \n",
       "8            I doubt they will make it.    id3  \n",
       "9                                   NaN    NaN  \n",
       "10          This has so much potential.    id3  \n",
       "11  This new journey seems interesting.    id3  \n",
       "12         The CEO is completely crazy.    id1  \n",
       "13              What a surprising deal.    id1  \n",
       "14                                  NaN    NaN  \n",
       "15          This has so much potential.    id3  \n",
       "16                                  NaN    NaN  \n",
       "17           I doubt they will make it.    id3  \n",
       "18                                  NaN    NaN  \n",
       "19     I would like to buy their items.    id2  "
      ]
     },
     "execution_count": 5,
     "metadata": {},
     "output_type": "execute_result"
    }
   ],
   "source": [
    "df, _ = select_first_n_occurences(df, n=2)\n",
    "pd.concat((df0, df), axis=1, keys=[\"df\", \"df_max_3_occ\"])"
   ]
  },
  {
   "cell_type": "code",
   "execution_count": 6,
   "metadata": {},
   "outputs": [],
   "source": [
    "HARD_LIMIT = 34_002\n",
    "SOFT_LIMIT = 8192\n",
    "token_counts = {}\n",
    "embeddings = {}\n",
    "cctnd_contents = {}\n",
    "for id_qi in df[\"id_qis\"].unique():\n",
    "    df_id_qi = df[df[\"id_qis\"]==id_qi]\n",
    "    cctnd_content = \" \".join(df_id_qi[col].to_list())\n",
    "    cctnd_contents[id_qi] = cctnd_content\n",
    "    token_counts[id_qi] = get_token_counts([cctnd_content], tokenizer)[0]\n",
    "    assert token_counts[id_qi] <= HARD_LIMIT\n",
    "    if token_counts[id_qi] >= SOFT_LIMIT:\n",
    "        print(f\"ID_QI {id_qi}: {token_counts[id_qi]} tokens (max. recommended is {SOFT_LIMIT})\")"
   ]
  },
  {
   "cell_type": "code",
   "execution_count": 7,
   "metadata": {},
   "outputs": [
    {
     "name": "stderr",
     "output_type": "stream",
     "text": [
      "C:\\Users\\Tim\\.cache\\huggingface\\modules\\transformers_modules\\Alibaba-NLP\\new-impl\\e244c9398934a48b4663dacf7ff4965961a6807a\\modeling.py:579: UserWarning: 1Torch was not compiled with flash attention. (Triggered internally at C:\\actions-runner\\_work\\pytorch\\pytorch\\builder\\windows\\pytorch\\aten\\src\\ATen\\native\\transformers\\cuda\\sdp_utils.cpp:455.)\n",
      "  attn_output = torch.nn.functional.scaled_dot_product_attention(\n"
     ]
    }
   ],
   "source": [
    "id_qis = list(cctnd_contents.keys())\n",
    "embeddings = get_embeddings(list(cctnd_contents.values()), model, tokenizer, device).cpu()\n",
    "embeddings = pd.DataFrame(embeddings, index=id_qis)"
   ]
  },
  {
   "cell_type": "code",
   "execution_count": 8,
   "metadata": {},
   "outputs": [
    {
     "data": {
      "text/html": [
       "<div>\n",
       "<style scoped>\n",
       "    .dataframe tbody tr th:only-of-type {\n",
       "        vertical-align: middle;\n",
       "    }\n",
       "\n",
       "    .dataframe tbody tr th {\n",
       "        vertical-align: top;\n",
       "    }\n",
       "\n",
       "    .dataframe thead th {\n",
       "        text-align: right;\n",
       "    }\n",
       "</style>\n",
       "<table border=\"1\" class=\"dataframe\">\n",
       "  <thead>\n",
       "    <tr style=\"text-align: right;\">\n",
       "      <th></th>\n",
       "      <th>id2</th>\n",
       "      <th>id1</th>\n",
       "      <th>id3</th>\n",
       "    </tr>\n",
       "  </thead>\n",
       "  <tbody>\n",
       "    <tr>\n",
       "      <th>id2</th>\n",
       "      <td>1.000000</td>\n",
       "      <td>0.346902</td>\n",
       "      <td>0.334533</td>\n",
       "    </tr>\n",
       "    <tr>\n",
       "      <th>id1</th>\n",
       "      <td>0.346902</td>\n",
       "      <td>1.000000</td>\n",
       "      <td>0.355955</td>\n",
       "    </tr>\n",
       "    <tr>\n",
       "      <th>id3</th>\n",
       "      <td>0.334533</td>\n",
       "      <td>0.355955</td>\n",
       "      <td>1.000000</td>\n",
       "    </tr>\n",
       "  </tbody>\n",
       "</table>\n",
       "</div>"
      ],
      "text/plain": [
       "          id2       id1       id3\n",
       "id2  1.000000  0.346902  0.334533\n",
       "id1  0.346902  1.000000  0.355955\n",
       "id3  0.334533  0.355955  1.000000"
      ]
     },
     "execution_count": 8,
     "metadata": {},
     "output_type": "execute_result"
    }
   ],
   "source": [
    "pd.DataFrame(cosine_similarity(embeddings), index=id_qis, columns=id_qis)"
   ]
  },
  {
   "cell_type": "code",
   "execution_count": 9,
   "metadata": {},
   "outputs": [
    {
     "name": "stdout",
     "output_type": "stream",
     "text": [
      "id2: This is quite rare. I would like to buy their items. This is quite rare. I love this firm. I would like to buy their items.\n",
      "id1: This stock is overrated. The CEO is completely crazy. This stock is overrated. What a surprising deal. The CEO is completely crazy. What a surprising deal.\n",
      "id3: I doubt they will make it. This has so much potential. This new journey seems interesting. This has so much potential. I doubt they will make it.\n"
     ]
    }
   ],
   "source": [
    "for id_qi, content in cctnd_contents.items():\n",
    "    print(f\"{id_qi}: {content}\")"
   ]
  },
  {
   "cell_type": "markdown",
   "metadata": {},
   "source": [
    "# Second example"
   ]
  },
  {
   "cell_type": "markdown",
   "metadata": {},
   "source": [
    "## Second example with gte (document-level)"
   ]
  },
  {
   "cell_type": "code",
   "execution_count": 10,
   "metadata": {},
   "outputs": [],
   "source": [
    "df_bis, _ = select_first_n_occurences(df_bis, n=2)"
   ]
  },
  {
   "cell_type": "code",
   "execution_count": 11,
   "metadata": {},
   "outputs": [],
   "source": [
    "HARD_LIMIT = 34_002\n",
    "SOFT_LIMIT = 8192\n",
    "token_counts = {}\n",
    "embeddings = {}\n",
    "cctnd_contents = {}\n",
    "for id_qi in df_bis[\"id_qis\"].unique():\n",
    "    df_id_qi = df_bis[df_bis[\"id_qis\"]==id_qi]\n",
    "    cctnd_content = \" \".join(df_id_qi[col].to_list())\n",
    "    cctnd_contents[id_qi] = cctnd_content\n",
    "    token_counts[id_qi] = get_token_counts([cctnd_content], tokenizer)[0]\n",
    "    assert token_counts[id_qi] <= HARD_LIMIT\n",
    "    if token_counts[id_qi] >= SOFT_LIMIT:\n",
    "        print(f\"ID_QI {id_qi}: {token_counts[id_qi]} tokens (max. recommended is {SOFT_LIMIT})\")"
   ]
  },
  {
   "cell_type": "code",
   "execution_count": 31,
   "metadata": {},
   "outputs": [
    {
     "data": {
      "text/html": [
       "<div>\n",
       "<style scoped>\n",
       "    .dataframe tbody tr th:only-of-type {\n",
       "        vertical-align: middle;\n",
       "    }\n",
       "\n",
       "    .dataframe tbody tr th {\n",
       "        vertical-align: top;\n",
       "    }\n",
       "\n",
       "    .dataframe thead th {\n",
       "        text-align: right;\n",
       "    }\n",
       "</style>\n",
       "<table border=\"1\" class=\"dataframe\">\n",
       "  <thead>\n",
       "    <tr style=\"text-align: right;\">\n",
       "      <th></th>\n",
       "      <th>id1</th>\n",
       "      <th>id2</th>\n",
       "      <th>id3</th>\n",
       "      <th>id5</th>\n",
       "    </tr>\n",
       "  </thead>\n",
       "  <tbody>\n",
       "    <tr>\n",
       "      <th>id1</th>\n",
       "      <td>1.000000</td>\n",
       "      <td>0.306629</td>\n",
       "      <td>0.560053</td>\n",
       "      <td>0.345450</td>\n",
       "    </tr>\n",
       "    <tr>\n",
       "      <th>id2</th>\n",
       "      <td>0.306629</td>\n",
       "      <td>1.000000</td>\n",
       "      <td>0.513939</td>\n",
       "      <td>0.235084</td>\n",
       "    </tr>\n",
       "    <tr>\n",
       "      <th>id3</th>\n",
       "      <td>0.560053</td>\n",
       "      <td>0.513939</td>\n",
       "      <td>1.000000</td>\n",
       "      <td>0.226419</td>\n",
       "    </tr>\n",
       "    <tr>\n",
       "      <th>id5</th>\n",
       "      <td>0.345450</td>\n",
       "      <td>0.235084</td>\n",
       "      <td>0.226419</td>\n",
       "      <td>1.000000</td>\n",
       "    </tr>\n",
       "  </tbody>\n",
       "</table>\n",
       "</div>"
      ],
      "text/plain": [
       "          id1       id2       id3       id5\n",
       "id1  1.000000  0.306629  0.560053  0.345450\n",
       "id2  0.306629  1.000000  0.513939  0.235084\n",
       "id3  0.560053  0.513939  1.000000  0.226419\n",
       "id5  0.345450  0.235084  0.226419  1.000000"
      ]
     },
     "execution_count": 31,
     "metadata": {},
     "output_type": "execute_result"
    }
   ],
   "source": [
    "id_qis = list(cctnd_contents.keys())\n",
    "embeddings = get_embeddings(list(cctnd_contents.values()), model, tokenizer, device).cpu()\n",
    "embeddings = pd.DataFrame(embeddings, index=id_qis)\n",
    "res = pd.DataFrame(cosine_similarity(embeddings), index=id_qis, columns=id_qis)\n",
    "id_qis.sort()\n",
    "res = res.loc[id_qis, id_qis]\n",
    "res"
   ]
  },
  {
   "cell_type": "code",
   "execution_count": 32,
   "metadata": {},
   "outputs": [
    {
     "name": "stdout",
     "output_type": "stream",
     "text": [
      "id1: The CEO is completely crazy. This stock is overrated. This stock is overrated. The CEO is completely crazy. This is a scandal.\n",
      "id2: This is quite rare. I love this firm. I love this firm. I would like to buy their items.\n",
      "id3: Excellent. This is interesting. This is interesting. Excellent. Can't wait to see their new CEO! Can't wait to see their new CEO!\n",
      "id5: i dislike it so much. i dislike it so much. It deserves to be ignored. It deserves to be ignored.\n"
     ]
    }
   ],
   "source": [
    "# the fact that cos(i1, i3) = 0.56 is so high even though the sentiment is opposed shows that the embeddings do not convey sentiment\n",
    "# i will need to extract the sentiment one way or the other\n",
    "for id_qi in id_qis:\n",
    "    print(f\"{id_qi}: {cctnd_contents[id_qi]}\")"
   ]
  },
  {
   "cell_type": "markdown",
   "metadata": {},
   "source": [
    "## Second example with sbert"
   ]
  },
  {
   "cell_type": "code",
   "execution_count": 26,
   "metadata": {},
   "outputs": [],
   "source": [
    "df_bis_sbert, _ = select_first_n_occurences(df_bis_sbert, n=2)"
   ]
  },
  {
   "cell_type": "code",
   "execution_count": 27,
   "metadata": {},
   "outputs": [],
   "source": [
    "embeddings = pd.DataFrame(sentence_model.encode(df_bis_sbert[col].to_list()), index=df_bis_sbert.index)\n",
    "embeddings = embeddings.groupby(df_bis_sbert[\"id_qis\"]).mean()"
   ]
  },
  {
   "cell_type": "code",
   "execution_count": 30,
   "metadata": {},
   "outputs": [
    {
     "data": {
      "text/html": [
       "<div>\n",
       "<style scoped>\n",
       "    .dataframe tbody tr th:only-of-type {\n",
       "        vertical-align: middle;\n",
       "    }\n",
       "\n",
       "    .dataframe tbody tr th {\n",
       "        vertical-align: top;\n",
       "    }\n",
       "\n",
       "    .dataframe thead th {\n",
       "        text-align: right;\n",
       "    }\n",
       "</style>\n",
       "<table border=\"1\" class=\"dataframe\">\n",
       "  <thead>\n",
       "    <tr style=\"text-align: right;\">\n",
       "      <th></th>\n",
       "      <th>id1</th>\n",
       "      <th>id2</th>\n",
       "      <th>id3</th>\n",
       "      <th>id5</th>\n",
       "    </tr>\n",
       "    <tr>\n",
       "      <th></th>\n",
       "      <th></th>\n",
       "      <th></th>\n",
       "      <th></th>\n",
       "      <th></th>\n",
       "    </tr>\n",
       "  </thead>\n",
       "  <tbody>\n",
       "    <tr>\n",
       "      <th>id1</th>\n",
       "      <td>1.000000</td>\n",
       "      <td>0.275946</td>\n",
       "      <td>0.438038</td>\n",
       "      <td>0.405970</td>\n",
       "    </tr>\n",
       "    <tr>\n",
       "      <th>id2</th>\n",
       "      <td>0.275946</td>\n",
       "      <td>1.000000</td>\n",
       "      <td>0.466192</td>\n",
       "      <td>0.195681</td>\n",
       "    </tr>\n",
       "    <tr>\n",
       "      <th>id3</th>\n",
       "      <td>0.438038</td>\n",
       "      <td>0.466192</td>\n",
       "      <td>1.000000</td>\n",
       "      <td>0.273799</td>\n",
       "    </tr>\n",
       "    <tr>\n",
       "      <th>id5</th>\n",
       "      <td>0.405970</td>\n",
       "      <td>0.195681</td>\n",
       "      <td>0.273799</td>\n",
       "      <td>1.000000</td>\n",
       "    </tr>\n",
       "  </tbody>\n",
       "</table>\n",
       "</div>"
      ],
      "text/plain": [
       "          id1       id2       id3       id5\n",
       "                                           \n",
       "id1  1.000000  0.275946  0.438038  0.405970\n",
       "id2  0.275946  1.000000  0.466192  0.195681\n",
       "id3  0.438038  0.466192  1.000000  0.273799\n",
       "id5  0.405970  0.195681  0.273799  1.000000"
      ]
     },
     "execution_count": 30,
     "metadata": {},
     "output_type": "execute_result"
    }
   ],
   "source": [
    "res_sbert = pd.DataFrame(cosine_similarity(embeddings), index=embeddings.index, columns=embeddings.index)\n",
    "res_sbert.columns.name = res_sbert.index.name = ''\n",
    "res_sbert"
   ]
  },
  {
   "cell_type": "markdown",
   "metadata": {},
   "source": [
    "# Comparison"
   ]
  },
  {
   "cell_type": "code",
   "execution_count": 37,
   "metadata": {},
   "outputs": [
    {
     "data": {
      "text/html": [
       "<div>\n",
       "<style scoped>\n",
       "    .dataframe tbody tr th:only-of-type {\n",
       "        vertical-align: middle;\n",
       "    }\n",
       "\n",
       "    .dataframe tbody tr th {\n",
       "        vertical-align: top;\n",
       "    }\n",
       "\n",
       "    .dataframe thead tr th {\n",
       "        text-align: left;\n",
       "    }\n",
       "</style>\n",
       "<table border=\"1\" class=\"dataframe\">\n",
       "  <thead>\n",
       "    <tr>\n",
       "      <th></th>\n",
       "      <th colspan=\"4\" halign=\"left\">document-level (gte)</th>\n",
       "      <th colspan=\"4\" halign=\"left\">sentence-level (sbert)</th>\n",
       "    </tr>\n",
       "    <tr>\n",
       "      <th></th>\n",
       "      <th>id1</th>\n",
       "      <th>id2</th>\n",
       "      <th>id3</th>\n",
       "      <th>id5</th>\n",
       "      <th>id1</th>\n",
       "      <th>id2</th>\n",
       "      <th>id3</th>\n",
       "      <th>id5</th>\n",
       "    </tr>\n",
       "  </thead>\n",
       "  <tbody>\n",
       "    <tr>\n",
       "      <th>id1</th>\n",
       "      <td>1.000000</td>\n",
       "      <td>0.306629</td>\n",
       "      <td>0.560053</td>\n",
       "      <td>0.345450</td>\n",
       "      <td>1.000000</td>\n",
       "      <td>0.275946</td>\n",
       "      <td>0.438038</td>\n",
       "      <td>0.405970</td>\n",
       "    </tr>\n",
       "    <tr>\n",
       "      <th>id2</th>\n",
       "      <td>0.306629</td>\n",
       "      <td>1.000000</td>\n",
       "      <td>0.513939</td>\n",
       "      <td>0.235084</td>\n",
       "      <td>0.275946</td>\n",
       "      <td>1.000000</td>\n",
       "      <td>0.466192</td>\n",
       "      <td>0.195681</td>\n",
       "    </tr>\n",
       "    <tr>\n",
       "      <th>id3</th>\n",
       "      <td>0.560053</td>\n",
       "      <td>0.513939</td>\n",
       "      <td>1.000000</td>\n",
       "      <td>0.226419</td>\n",
       "      <td>0.438038</td>\n",
       "      <td>0.466192</td>\n",
       "      <td>1.000000</td>\n",
       "      <td>0.273799</td>\n",
       "    </tr>\n",
       "    <tr>\n",
       "      <th>id5</th>\n",
       "      <td>0.345450</td>\n",
       "      <td>0.235084</td>\n",
       "      <td>0.226419</td>\n",
       "      <td>1.000000</td>\n",
       "      <td>0.405970</td>\n",
       "      <td>0.195681</td>\n",
       "      <td>0.273799</td>\n",
       "      <td>1.000000</td>\n",
       "    </tr>\n",
       "  </tbody>\n",
       "</table>\n",
       "</div>"
      ],
      "text/plain": [
       "    document-level (gte)                               sentence-level (sbert)  \\\n",
       "                     id1       id2       id3       id5                    id1   \n",
       "id1             1.000000  0.306629  0.560053  0.345450               1.000000   \n",
       "id2             0.306629  1.000000  0.513939  0.235084               0.275946   \n",
       "id3             0.560053  0.513939  1.000000  0.226419               0.438038   \n",
       "id5             0.345450  0.235084  0.226419  1.000000               0.405970   \n",
       "\n",
       "                                   \n",
       "          id2       id3       id5  \n",
       "id1  0.275946  0.438038  0.405970  \n",
       "id2  1.000000  0.466192  0.195681  \n",
       "id3  0.466192  1.000000  0.273799  \n",
       "id5  0.195681  0.273799  1.000000  "
      ]
     },
     "metadata": {},
     "output_type": "display_data"
    },
    {
     "name": "stdout",
     "output_type": "stream",
     "text": [
      "id1: The CEO is completely crazy. This stock is overrated. This stock is overrated. The CEO is completely crazy. This is a scandal.\n",
      "id2: This is quite rare. I love this firm. I love this firm. I would like to buy their items.\n",
      "id3: Excellent. This is interesting. This is interesting. Excellent. Can't wait to see their new CEO! Can't wait to see their new CEO!\n",
      "id5: i dislike it so much. i dislike it so much. It deserves to be ignored. It deserves to be ignored.\n"
     ]
    }
   ],
   "source": [
    "display(pd.concat((res, res_sbert), axis=1, keys=['document-level (gte)', 'sentence-level (sbert)']))\n",
    "for id_qi in id_qis:\n",
    "    print(f\"{id_qi}: {cctnd_contents[id_qi]}\")"
   ]
  },
  {
   "cell_type": "code",
   "execution_count": 43,
   "metadata": {},
   "outputs": [
    {
     "data": {
      "image/png": "[encoded data removed]",
      "text/plain": [
       "<Figure size 1000x300 with 4 Axes>"
      ]
     },
     "metadata": {},
     "output_type": "display_data"
    },
    {
     "name": "stdout",
     "output_type": "stream",
     "text": [
      "id1: The CEO is completely crazy. This stock is overrated. This stock is overrated. The CEO is completely crazy. This is a scandal.\n",
      "id2: This is quite rare. I love this firm. I love this firm. I would like to buy their items.\n",
      "id3: Excellent. This is interesting. This is interesting. Excellent. Can't wait to see their new CEO! Can't wait to see their new CEO!\n",
      "id5: i dislike it so much. i dislike it so much. It deserves to be ignored. It deserves to be ignored.\n"
     ]
    }
   ],
   "source": [
    "fig, axes = plt.subplots(1, 2, figsize=(10, 3))\n",
    "\n",
    "sns.heatmap(res, annot=True, fmt=\".2f\", cmap=\"viridis\", ax=axes[0])\n",
    "axes[0].set_title('Document-level (gte)')\n",
    "sns.heatmap(res_sbert, annot=True, fmt=\".2f\", cmap=\"viridis\", ax=axes[1])\n",
    "axes[1].set_title('Sentence-level (sbert)')\n",
    "\n",
    "plt.tight_layout()\n",
    "plt.show()\n",
    "for id_qi in id_qis:\n",
    "    print(f\"{id_qi}: {cctnd_contents[id_qi]}\")"
   ]
  },
  {
   "cell_type": "code",
   "execution_count": null,
   "metadata": {},
   "outputs": [],
   "source": []
  }
 ],
 "metadata": {
  "kernelspec": {
   "display_name": "py39",
   "language": "python",
   "name": "python3"
  },
  "language_info": {
   "codemirror_mode": {
    "name": "ipython",
    "version": 3
   },
   "file_extension": ".py",
   "mimetype": "text/x-python",
   "name": "python",
   "nbconvert_exporter": "python",
   "pygments_lexer": "ipython3",
   "version": "3.9.19"
  }
 },
 "nbformat": 4,
 "nbformat_minor": 2
}
