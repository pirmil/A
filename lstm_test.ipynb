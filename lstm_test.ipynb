{
 "cells": [
  {
   "cell_type": "code",
   "execution_count": 1,
   "metadata": {},
   "outputs": [],
   "source": [
    "import numpy as np"
   ]
  },
  {
   "cell_type": "code",
   "execution_count": 40,
   "metadata": {},
   "outputs": [],
   "source": [
    "def generate_data(n_samples=100, n_features=4, round=2, seed=None):\n",
    "    if seed is not None:\n",
    "        np.random.seed(seed)\n",
    "    X = np.random.randn(n_samples, n_features)\n",
    "    y = np.random.randn(n_samples)\n",
    "    return X.round(round), y.round(round)\n"
   ]
  },
  {
   "cell_type": "code",
   "execution_count": 41,
   "metadata": {},
   "outputs": [],
   "source": [
    "def data_lstm(X, y, sequence_length):\n",
    "    X_lstm = []\n",
    "    for i in range(len(X)-sequence_length):\n",
    "        X_lstm.append(X[i:i+sequence_length])\n",
    "    X_lstm = np.array(X_lstm)\n",
    "    y_lstm = y[sequence_length:]\n",
    "    return X_lstm, y_lstm\n",
    "\n",
    "# vectorized version\n",
    "def data_lstm_v2(X, y, sequence_length):\n",
    "    idx = np.arange(sequence_length) + np.arange(len(X) - sequence_length)[:, None]\n",
    "    X_lstm = X[idx]\n",
    "    y_lstm = y[sequence_length:]\n",
    "    return X_lstm, y_lstm"
   ]
  },
  {
   "cell_type": "code",
   "execution_count": 56,
   "metadata": {},
   "outputs": [
    {
     "name": "stdout",
     "output_type": "stream",
     "text": [
      "[X] (100, 4) -> (97, 3, 4) | [y] (100,) -> (97,)\n"
     ]
    }
   ],
   "source": [
    "sequence_length = 3\n",
    "X, y = generate_data(seed=0)\n",
    "X_lstm, y_lstm = data_lstm(X, y, sequence_length)\n",
    "X_lstm_2, y_lstm_2 = data_lstm_v2(X, y, sequence_length)\n",
    "assert np.allclose(X_lstm, X_lstm_2)\n",
    "assert np.allclose(y_lstm, y_lstm_2)\n",
    "print(f'[X] {X.shape} -> {X_lstm.shape} | [y] {y.shape} -> {y_lstm_2.shape}')"
   ]
  },
  {
   "cell_type": "code",
   "execution_count": 68,
   "metadata": {},
   "outputs": [
    {
     "name": "stdout",
     "output_type": "stream",
     "text": [
      "-0.08\n"
     ]
    },
    {
     "data": {
      "text/plain": [
       "array([[ 0.04, -1.66, -0.99, -1.47],\n",
       "       [ 1.65,  0.16,  0.57, -0.22],\n",
       "       [-0.35, -1.62, -0.29, -0.76]])"
      ]
     },
     "execution_count": 68,
     "metadata": {},
     "output_type": "execute_result"
    }
   ],
   "source": [
    "print(y_lstm[-1])\n",
    "X_lstm[-1]"
   ]
  },
  {
   "cell_type": "code",
   "execution_count": 65,
   "metadata": {},
   "outputs": [
    {
     "data": {
      "text/plain": [
       "array([[ 0.7 ,  0.  ,  0.93,  0.34],\n",
       "       [-0.02,  0.16, -0.19, -0.39],\n",
       "       [-0.27, -1.13,  0.28, -0.99],\n",
       "       [ 0.84, -0.25,  0.05,  0.49],\n",
       "       [ 0.64, -1.57, -0.21,  0.88],\n",
       "       [-1.7 ,  0.39, -2.26, -1.02],\n",
       "       [ 0.04, -1.66, -0.99, -1.47],\n",
       "       [ 1.65,  0.16,  0.57, -0.22],\n",
       "       [-0.35, -1.62, -0.29, -0.76],\n",
       "       [ 0.86,  1.14,  1.47,  0.85]])"
      ]
     },
     "execution_count": 65,
     "metadata": {},
     "output_type": "execute_result"
    }
   ],
   "source": [
    "X[-10:]"
   ]
  },
  {
   "cell_type": "code",
   "execution_count": 67,
   "metadata": {},
   "outputs": [
    {
     "data": {
      "text/plain": [
       "array([-1.03, -0.35,  1.1 ,  1.3 ,  2.7 , -0.07, -0.66, -0.51, -1.02,\n",
       "       -0.08])"
      ]
     },
     "execution_count": 67,
     "metadata": {},
     "output_type": "execute_result"
    }
   ],
   "source": [
    "y[-10:]"
   ]
  },
  {
   "cell_type": "code",
   "execution_count": 69,
   "metadata": {},
   "outputs": [],
   "source": [
    "def data_lstm(X, y, sequence_length, y_looks_ahead=True):\n",
    "    X_lstm = []\n",
    "    i_max = len(X)-sequence_length+1 if y_looks_ahead else len(X)-sequence_length\n",
    "    for i in range(i_max):\n",
    "        X_lstm.append(X[i:i+sequence_length])\n",
    "    X_lstm = np.array(X_lstm)\n",
    "    y_lstm = y[sequence_length-1:] if y_looks_ahead else y[sequence_length:]\n",
    "    return X_lstm, y_lstm\n",
    "\n",
    "# vectorized version\n",
    "def data_lstm_v2(X, y, sequence_length, y_looks_ahead=True):\n",
    "    i_max = len(X)-sequence_length+1 if y_looks_ahead else len(X)-sequence_length\n",
    "    idx = np.arange(sequence_length) + np.arange(i_max)[:, None]\n",
    "    X_lstm = X[idx]\n",
    "    y_lstm = y[sequence_length-1:] if y_looks_ahead else y[sequence_length:]\n",
    "    return X_lstm, y_lstm"
   ]
  },
  {
   "cell_type": "code",
   "execution_count": 70,
   "metadata": {},
   "outputs": [
    {
     "name": "stdout",
     "output_type": "stream",
     "text": [
      "[X] (100, 4) -> (98, 3, 4) | [y] (100,) -> (98,)\n"
     ]
    }
   ],
   "source": [
    "sequence_length = 3\n",
    "X, y = generate_data(seed=0)\n",
    "X_lstm, y_lstm = data_lstm(X, y, sequence_length)\n",
    "X_lstm_2, y_lstm_2 = data_lstm_v2(X, y, sequence_length)\n",
    "assert np.allclose(X_lstm, X_lstm_2)\n",
    "assert np.allclose(y_lstm, y_lstm_2)\n",
    "print(f'[X] {X.shape} -> {X_lstm.shape} | [y] {y.shape} -> {y_lstm_2.shape}')"
   ]
  },
  {
   "cell_type": "code",
   "execution_count": 74,
   "metadata": {},
   "outputs": [
    {
     "name": "stdout",
     "output_type": "stream",
     "text": [
      "0.77\n"
     ]
    },
    {
     "data": {
      "text/plain": [
       "array([[ 1.76,  0.4 ,  0.98,  2.24],\n",
       "       [ 1.87, -0.98,  0.95, -0.15],\n",
       "       [-0.1 ,  0.41,  0.14,  1.45]])"
      ]
     },
     "execution_count": 74,
     "metadata": {},
     "output_type": "execute_result"
    }
   ],
   "source": [
    "print(y_lstm[0])\n",
    "X_lstm[0]"
   ]
  },
  {
   "cell_type": "code",
   "execution_count": 75,
   "metadata": {},
   "outputs": [
    {
     "data": {
      "text/plain": [
       "array([[ 1.76,  0.4 ,  0.98,  2.24],\n",
       "       [ 1.87, -0.98,  0.95, -0.15],\n",
       "       [-0.1 ,  0.41,  0.14,  1.45],\n",
       "       [ 0.76,  0.12,  0.44,  0.33],\n",
       "       [ 1.49, -0.21,  0.31, -0.85],\n",
       "       [-2.55,  0.65,  0.86, -0.74],\n",
       "       [ 2.27, -1.45,  0.05, -0.19],\n",
       "       [ 1.53,  1.47,  0.15,  0.38],\n",
       "       [-0.89, -1.98, -0.35,  0.16],\n",
       "       [ 1.23,  1.2 , -0.39, -0.3 ]])"
      ]
     },
     "execution_count": 75,
     "metadata": {},
     "output_type": "execute_result"
    }
   ],
   "source": [
    "X[:10]"
   ]
  },
  {
   "cell_type": "code",
   "execution_count": 76,
   "metadata": {},
   "outputs": [
    {
     "data": {
      "text/plain": [
       "array([-0.6 , -1.12,  0.77,  0.36, -1.77,  0.36,  0.81,  0.06, -0.19,\n",
       "       -0.81])"
      ]
     },
     "execution_count": 76,
     "metadata": {},
     "output_type": "execute_result"
    }
   ],
   "source": [
    "y[:10]"
   ]
  },
  {
   "cell_type": "code",
   "execution_count": null,
   "metadata": {},
   "outputs": [],
   "source": []
  }
 ],
 "metadata": {
  "kernelspec": {
   "display_name": "py39",
   "language": "python",
   "name": "python3"
  },
  "language_info": {
   "codemirror_mode": {
    "name": "ipython",
    "version": 3
   },
   "file_extension": ".py",
   "mimetype": "text/x-python",
   "name": "python",
   "nbconvert_exporter": "python",
   "pygments_lexer": "ipython3",
   "version": "3.9.19"
  }
 },
 "nbformat": 4,
 "nbformat_minor": 2
}
