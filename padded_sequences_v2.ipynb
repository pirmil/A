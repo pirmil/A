{
 "cells": [
  {
   "cell_type": "code",
   "execution_count": 2,
   "metadata": {},
   "outputs": [],
   "source": [
    "import pandas as pd\n",
    "import numpy as np\n",
    "import torch\n",
    "import torch.nn as nn\n",
    "from torch.nn.utils.rnn import pad_sequence, pack_padded_sequence, pad_packed_sequence\n",
    "import torch.optim as optim\n",
    "import torch.nn.functional as F\n",
    "from torch.utils.data import Dataset, DataLoader\n",
    "from data import df\n",
    "from pytorch import collate_fn, TweetDataset"
   ]
  },
  {
   "cell_type": "code",
   "execution_count": 3,
   "metadata": {},
   "outputs": [],
   "source": [
    "def df_to_seq_tgt(df: pd.DataFrame):\n",
    "    grouped = df.groupby(['date', 'ID_QI'])\n",
    "    sequences = []\n",
    "    targets = []\n",
    "    for (date, ID_QI), group in grouped:\n",
    "        features = group[['f1', 'f2', 'm1', 'm2']].values\n",
    "        assert group['c2cdr'].nunique() == 1\n",
    "        target = group['c2cdr'].iloc[0]  # Single target for the group\n",
    "        sequences.append(features)\n",
    "        targets.append(target)\n",
    "    sequences = [torch.tensor(seq, dtype=torch.float32) for seq in sequences]\n",
    "    targets = torch.tensor(targets, dtype=torch.float32)\n",
    "    return sequences, targets\n",
    "\n",
    "N_FEATS = 2"
   ]
  },
  {
   "cell_type": "markdown",
   "metadata": {},
   "source": [
    "# premier test"
   ]
  },
  {
   "cell_type": "code",
   "execution_count": 3,
   "metadata": {},
   "outputs": [],
   "source": [
    "torch.manual_seed(0)\n",
    "seq_1 = torch.randn(5, 128)  # 5 tweets, 128-dim embeddings\n",
    "seq_2 = torch.randn(3, 128)  # 3 tweets, 128-dim embeddings\n",
    "seq_3 = torch.randn(7, 128)  # 7 tweets, 128-dim embeddings\n",
    "\n",
    "# Pad sequences so they are the same length\n",
    "padded_seqs = pad_sequence([seq_1, seq_2, seq_3], batch_first=True) \n",
    "# shape = b_size, max_n_tweets, 128\n",
    "# avec b_size=3 et max_n_tweets=7\n",
    "\n",
    "# Create masks to identify the real data points\n",
    "lengths = [seq_1.size(0), seq_2.size(0), seq_3.size(0)]\n",
    "mask = torch.arange(padded_seqs.size(1)).unsqueeze(0) < torch.tensor(lengths).unsqueeze(1)\n",
    "\n",
    "# Example of applying a weighted average (mask-aware)\n",
    "weights = torch.randn_like(padded_seqs)\n",
    "weighted_sum = torch.sum(weights * padded_seqs * mask.unsqueeze(2), dim=1)\n",
    "average = weighted_sum / mask.sum(dim=1, keepdim=True)"
   ]
  },
  {
   "cell_type": "code",
   "execution_count": 78,
   "metadata": {},
   "outputs": [
    {
     "data": {
      "text/plain": [
       "tensor([0., 0., 0., 0., 0., 0., 0., 0., 0., 0., 0., 0., 0., 0., 0., 0., 0., 0., 0., 0., 0., 0., 0., 0.,\n",
       "        0., 0., 0., 0., 0., 0., 0., 0., 0., 0., 0., 0., 0., 0., 0., 0., 0., 0., 0., 0., 0., 0., 0., 0.,\n",
       "        0., 0., 0., 0., 0., 0., 0., 0., 0., 0., 0., 0., 0., 0., 0., 0., 0., 0., 0., 0., 0., 0., 0., 0.,\n",
       "        0., 0., 0., 0., 0., 0., 0., 0., 0., 0., 0., 0., 0., 0., 0., 0., 0., 0., 0., 0., 0., 0., 0., 0.,\n",
       "        0., 0., 0., 0., 0., 0., 0., 0., 0., 0., 0., 0., 0., 0., 0., 0., 0., 0., 0., 0., 0., 0., 0., 0.,\n",
       "        0., 0., 0., 0., 0., 0., 0., 0.])"
      ]
     },
     "execution_count": 78,
     "metadata": {},
     "output_type": "execute_result"
    }
   ],
   "source": [
    "average[0] - (torch.sum((weights[0, :5] * seq_1), dim=0) / 5)"
   ]
  },
  {
   "cell_type": "markdown",
   "metadata": {},
   "source": [
    "# vrai donnees"
   ]
  },
  {
   "cell_type": "code",
   "execution_count": 5,
   "metadata": {},
   "outputs": [],
   "source": [
    "sequences, targets = df_to_seq_tgt(df)"
   ]
  },
  {
   "cell_type": "code",
   "execution_count": 6,
   "metadata": {},
   "outputs": [
    {
     "data": {
      "text/plain": [
       "[tensor([[0.1000, 1.1000, 2.1000, 3.3000],\n",
       "         [0.2000, 1.2000, 2.2000, 3.4000],\n",
       "         [0.5000, 3.4000, 3.3000, 3.2000]]),\n",
       " tensor([[0.3000, 1.3000, 2.3000, 3.5000],\n",
       "         [0.4000, 3.3000, 2.4000, 3.1000]]),\n",
       " tensor([[0.3000, 1.4000, 3.5000, 3.4000],\n",
       "         [3.3000, 1.5000, 2.5000, 3.5000]]),\n",
       " tensor([[0.2000, 3.5000, 3.4000, 3.3000]]),\n",
       " tensor([[3.5000, 0.3000, 0.3000, 0.1000]]),\n",
       " tensor([[3.4000, 0.2000, 0.2000, 0.2000]])]"
      ]
     },
     "execution_count": 6,
     "metadata": {},
     "output_type": "execute_result"
    }
   ],
   "source": [
    "sequences"
   ]
  },
  {
   "cell_type": "code",
   "execution_count": 7,
   "metadata": {},
   "outputs": [
    {
     "data": {
      "text/plain": [
       "tensor([0.5600, 0.5700, 0.6600])"
      ]
     },
     "execution_count": 7,
     "metadata": {},
     "output_type": "execute_result"
    }
   ],
   "source": [
    "targets[:3]"
   ]
  },
  {
   "cell_type": "code",
   "execution_count": 22,
   "metadata": {},
   "outputs": [],
   "source": [
    "padded_sequences = pad_sequence(sequences, batch_first=True)\n",
    "lengths = torch.tensor([len(seq) for seq in sequences])"
   ]
  },
  {
   "cell_type": "code",
   "execution_count": 23,
   "metadata": {},
   "outputs": [
    {
     "data": {
      "text/plain": [
       "tensor([[[0.1000, 1.1000, 2.1000, 3.3000],\n",
       "         [0.2000, 1.2000, 2.2000, 3.4000],\n",
       "         [0.5000, 3.4000, 3.3000, 3.2000]],\n",
       "\n",
       "        [[0.3000, 1.3000, 2.3000, 3.5000],\n",
       "         [0.4000, 3.3000, 2.4000, 3.1000],\n",
       "         [0.0000, 0.0000, 0.0000, 0.0000]],\n",
       "\n",
       "        [[0.3000, 1.4000, 3.5000, 3.4000],\n",
       "         [3.3000, 1.5000, 2.5000, 3.5000],\n",
       "         [0.0000, 0.0000, 0.0000, 0.0000]],\n",
       "\n",
       "        [[0.2000, 3.5000, 3.4000, 3.3000],\n",
       "         [0.0000, 0.0000, 0.0000, 0.0000],\n",
       "         [0.0000, 0.0000, 0.0000, 0.0000]],\n",
       "\n",
       "        [[3.5000, 0.3000, 0.3000, 0.1000],\n",
       "         [0.0000, 0.0000, 0.0000, 0.0000],\n",
       "         [0.0000, 0.0000, 0.0000, 0.0000]],\n",
       "\n",
       "        [[3.4000, 0.2000, 0.2000, 0.2000],\n",
       "         [0.0000, 0.0000, 0.0000, 0.0000],\n",
       "         [0.0000, 0.0000, 0.0000, 0.0000]]])"
      ]
     },
     "execution_count": 23,
     "metadata": {},
     "output_type": "execute_result"
    }
   ],
   "source": [
    "padded_sequences"
   ]
  },
  {
   "cell_type": "code",
   "execution_count": 24,
   "metadata": {},
   "outputs": [
    {
     "data": {
      "text/plain": [
       "PackedSequence(data=tensor([[0.1000, 1.1000, 2.1000, 3.3000],\n",
       "        [0.3000, 1.3000, 2.3000, 3.5000],\n",
       "        [0.3000, 1.4000, 3.5000, 3.4000],\n",
       "        [0.2000, 3.5000, 3.4000, 3.3000],\n",
       "        [3.5000, 0.3000, 0.3000, 0.1000],\n",
       "        [3.4000, 0.2000, 0.2000, 0.2000],\n",
       "        [0.2000, 1.2000, 2.2000, 3.4000],\n",
       "        [0.4000, 3.3000, 2.4000, 3.1000],\n",
       "        [3.3000, 1.5000, 2.5000, 3.5000],\n",
       "        [0.5000, 3.4000, 3.3000, 3.2000]]), batch_sizes=tensor([6, 3, 1]), sorted_indices=tensor([0, 1, 2, 3, 4, 5]), unsorted_indices=tensor([0, 1, 2, 3, 4, 5]))"
      ]
     },
     "execution_count": 24,
     "metadata": {},
     "output_type": "execute_result"
    }
   ],
   "source": [
    "packed_x = pack_padded_sequence(padded_sequences, lengths.cpu(), batch_first=True, enforce_sorted=False)\n",
    "packed_x"
   ]
  },
  {
   "cell_type": "code",
   "execution_count": 8,
   "metadata": {},
   "outputs": [],
   "source": [
    "tweet_dataset = TweetDataset(sequences, targets)\n",
    "data_loader = DataLoader(tweet_dataset, batch_size=4, shuffle=True, collate_fn=lambda x: collate_fn(x, N_FEATS))"
   ]
  },
  {
   "cell_type": "code",
   "execution_count": 21,
   "metadata": {},
   "outputs": [],
   "source": [
    "class TweetAttentionMLP(nn.Module):\n",
    "    def __init__(self, embedding_dim=2, meta_dim=2, mlp_dim=32):\n",
    "        super(TweetAttentionMLP, self).__init__()\n",
    "        self.intermediary_layer = nn.Linear(embedding_dim + meta_dim, embedding_dim + meta_dim)\n",
    "        self.attention_layer = nn.Linear(embedding_dim + meta_dim, 1)\n",
    "        self.mlp = nn.Sequential(\n",
    "            nn.Linear(embedding_dim, mlp_dim),\n",
    "            nn.ReLU(),\n",
    "            nn.Linear(mlp_dim, 1)\n",
    "        )\n",
    "\n",
    "    def forward(self, embeddings, meta_features, lengths):\n",
    "        \"\"\"\n",
    "        embeddings: tensor of shape (batch_size, L_max, embedding_dim) (padded)\n",
    "        meta_features: tensor of shape (batch_size, L_max, meta_dim) (padded)\n",
    "        lengths: tensor of shape (batch_size,) indicating the actual length of each sequence\n",
    "        \"\"\"\n",
    "        batch_size, L_max, _ = embeddings.shape\n",
    "        concat_features = torch.cat([embeddings, meta_features], dim=-1)  # Shape: (batch_size, L_max, embedding_dim + meta_dim)\n",
    "        transformed_features = torch.tanh(self.intermediary_layer(concat_features))  # Shape: (batch_size, L_max, embedding_dim + meta_dim)\n",
    "        w_l = torch.sigmoid(self.attention_layer(transformed_features)).squeeze(-1)  # Shape: (batch_size, L_max)\n",
    "        mask = torch.arange(L_max).expand(batch_size, L_max) < lengths.unsqueeze(1)  # Shape: (batch_size, L_max)\n",
    "        mask = mask.to(embeddings.device)\n",
    "        w_l = w_l.masked_fill(~mask, -float('inf'))  # Mask out padded positions by setting large negative values\n",
    "        alpha_l = F.softmax(w_l, dim=1)  # Shape: (batch_size, L_max)\n",
    "        weighted_embedding = torch.sum(alpha_l.unsqueeze(-1) * embeddings, dim=1)  # Shape: (batch_size, embedding_dim)\n",
    "        prediction = self.mlp(weighted_embedding).squeeze(-1)  # Shape: (batch_size,)\n",
    "        return prediction\n",
    "    \n",
    "\n",
    "class TimeAttentionMLP(nn.Module):\n",
    "    def __init__(self, embedding_dim=2, meta_dim=2, L=3, mlp_dim=32, freeze_theta=True, inf_value=float('-inf')):\n",
    "        super(TimeAttentionMLP, self).__init__()\n",
    "        self.intermediary_layer = nn.Linear(embedding_dim + meta_dim, embedding_dim + meta_dim)\n",
    "        self.attention_layer = nn.Linear(embedding_dim + meta_dim, 1)\n",
    "        self.theta = nn.Parameter(torch.ones(L))\n",
    "        if freeze_theta:\n",
    "            self.theta.requires_grad = False\n",
    "        self.mlp = nn.Sequential(\n",
    "            nn.Linear(embedding_dim, mlp_dim),\n",
    "            nn.ReLU(),\n",
    "            nn.Linear(mlp_dim, 1)\n",
    "        )\n",
    "        self.inf_value = inf_value\n",
    "\n",
    "    def forward(self, embeddings, meta_features, lengths):\n",
    "        \"\"\"\n",
    "        embeddings: tensor of shape (batch_size, L_max, embedding_dim) (padded)\n",
    "        meta_features: tensor of shape (batch_size, L_max, meta_dim) (padded)\n",
    "        lengths: tensor of shape (batch_size,) indicating the actual length of each sequence\n",
    "        \"\"\"\n",
    "        batch_size, L_max, _ = embeddings.shape\n",
    "        concat_features = torch.cat([embeddings, meta_features], dim=-1)  # Shape: (batch_size, L_max, embedding_dim + meta_dim)\n",
    "        transformed_features = torch.tanh(self.intermediary_layer(concat_features))  # Shape: (batch_size, L_max, embedding_dim + meta_dim)\n",
    "        o_t = torch.sigmoid(self.attention_layer(transformed_features)).squeeze(-1)  # Shape: (batch_size, L_max)\n",
    "        mask = torch.arange(L_max).expand(batch_size, L_max) < lengths.unsqueeze(1)  # Shape: (batch_size, L_max)\n",
    "        mask = mask.to(embeddings.device)\n",
    "        o_t = o_t.masked_fill(~mask, self.inf_value)\n",
    "        beta_t = F.softmax(o_t * self.theta[:L_max], dim=1)  # Shape: (batch_size, L_max)\n",
    "        weighted_embedding = torch.sum(beta_t.unsqueeze(-1) * embeddings, dim=1)  # Shape: (batch_size, embedding_dim)\n",
    "        prediction = self.mlp(weighted_embedding).squeeze(-1)  # Shape: (batch_size,)\n",
    "        return prediction\n",
    "\n",
    "class BatchedTweetAverageModel(nn.Module): # Only for comparison with the regular model\n",
    "    def __init__(self, embedding_dim=2, mlp_dim=32):\n",
    "        super(BatchedTweetAverageModel, self).__init__()\n",
    "        self.mlp = nn.Sequential(\n",
    "            nn.Linear(embedding_dim, mlp_dim),\n",
    "            nn.ReLU(),\n",
    "            nn.Linear(mlp_dim, 1)  # Final output layer\n",
    "        )\n",
    "\n",
    "    def forward(self, embeddings, lengths):\n",
    "        \"\"\"\n",
    "        embeddings: tensor of shape (batch_size, L_max, embedding_dim) (padded)\n",
    "        lengths: tensor of shape (batch_size,) indicating the actual length of each sequence\n",
    "        \"\"\"\n",
    "        batch_size, L_max, _ = embeddings.shape\n",
    "        mask = torch.arange(L_max).expand(batch_size, L_max).to(embeddings.device) < lengths.unsqueeze(1)  # Shape: (batch_size, L_max)\n",
    "        masked_embeddings = embeddings * mask.unsqueeze(-1)\n",
    "        sum_embeddings = masked_embeddings.sum(dim=1)  # Shape: (batch_size, embedding_dim)\n",
    "        avg_embeddings = sum_embeddings / lengths.unsqueeze(1).float()  # Shape: (batch_size, embedding_dim)\n",
    "        # print(avg_embeddings)\n",
    "        prediction = self.mlp(avg_embeddings).squeeze(-1)  # Shape: (batch_size,)\n",
    "        return prediction"
   ]
  },
  {
   "cell_type": "code",
   "execution_count": 33,
   "metadata": {},
   "outputs": [
    {
     "name": "stdout",
     "output_type": "stream",
     "text": [
      "tensor(3)\n",
      "tensor(2)\n",
      "Epoch 1/5, Loss: 1.3440\n",
      "tensor(3)\n",
      "tensor(2)\n",
      "Epoch 2/5, Loss: 1.3291\n",
      "tensor(3)\n",
      "tensor(2)\n",
      "Epoch 3/5, Loss: 1.4169\n",
      "tensor(3)\n",
      "tensor(2)\n",
      "Epoch 4/5, Loss: 1.2910\n",
      "tensor(2)\n",
      "tensor(3)\n",
      "Epoch 5/5, Loss: 1.2671\n"
     ]
    }
   ],
   "source": [
    "model = TimeAttentionMLP(freeze_theta=False, inf_value=-1e10)\n",
    "criterion = nn.MSELoss()\n",
    "optimizer = torch.optim.Adam(model.parameters(), lr=1e-4)\n",
    "epochs = 5\n",
    "\n",
    "for epoch in range(epochs):\n",
    "    running = 0\n",
    "    for embeddings, meta_features, lengths, target_batch in data_loader:\n",
    "        print(lengths.max())\n",
    "        optimizer.zero_grad()\n",
    "        prediction = model(embeddings, meta_features, lengths)\n",
    "        loss = criterion(prediction, target_batch)\n",
    "        loss.backward()\n",
    "        optimizer.step()\n",
    "        running += loss.item()\n",
    "\n",
    "    print(f\"Epoch {epoch+1}/{epochs}, Loss: {running:.4f}\")"
   ]
  },
  {
   "cell_type": "code",
   "execution_count": 27,
   "metadata": {},
   "outputs": [],
   "source": [
    "# TODO: test if this model gives exactly the same results as the regular model\n",
    "model = BatchedTweetAverageModel()\n",
    "criterion = nn.MSELoss()\n",
    "\n",
    "for embeddings, meta_features, lengths, target_batch in data_loader:\n",
    "    prediction = model(embeddings, lengths)\n",
    "    loss = criterion(prediction, target_batch)\n",
    "    break"
   ]
  },
  {
   "cell_type": "code",
   "execution_count": 117,
   "metadata": {},
   "outputs": [
    {
     "data": {
      "text/plain": [
       "tensor([[[0.1000, 1.1000],\n",
       "         [0.2000, 1.2000],\n",
       "         [0.5000, 3.4000]],\n",
       "\n",
       "        [[0.3000, 1.4000],\n",
       "         [3.3000, 1.5000],\n",
       "         [0.0000, 0.0000]],\n",
       "\n",
       "        [[3.5000, 0.3000],\n",
       "         [0.0000, 0.0000],\n",
       "         [0.0000, 0.0000]],\n",
       "\n",
       "        [[0.3000, 1.3000],\n",
       "         [0.4000, 3.3000],\n",
       "         [0.0000, 0.0000]]])"
      ]
     },
     "execution_count": 117,
     "metadata": {},
     "output_type": "execute_result"
    }
   ],
   "source": [
    "# torch.cat((embeddings, meta_features), dim=2)\n",
    "embeddings"
   ]
  },
  {
   "cell_type": "code",
   "execution_count": 120,
   "metadata": {},
   "outputs": [
    {
     "data": {
      "text/plain": [
       "tensor([0.5600, 0.6600, 0.3800, 0.5700])"
      ]
     },
     "execution_count": 120,
     "metadata": {},
     "output_type": "execute_result"
    }
   ],
   "source": [
    "target_batch"
   ]
  },
  {
   "cell_type": "code",
   "execution_count": 119,
   "metadata": {},
   "outputs": [
    {
     "data": {
      "text/plain": [
       "1.8999999999999997"
      ]
     },
     "execution_count": 119,
     "metadata": {},
     "output_type": "execute_result"
    }
   ],
   "source": [
    "np.mean([1.1, 1.2, 3.4])"
   ]
  },
  {
   "cell_type": "code",
   "execution_count": 1,
   "metadata": {},
   "outputs": [],
   "source": [
    "import seaborn as sns\n",
    "import pandas as pd\n",
    "import numpy as np"
   ]
  },
  {
   "cell_type": "code",
   "execution_count": 4,
   "metadata": {},
   "outputs": [
    {
     "data": {
      "text/plain": [
       "<Axes: >"
      ]
     },
     "execution_count": 4,
     "metadata": {},
     "output_type": "execute_result"
    },
    {
     "data": {
      "image/png": "[encoded data removed]",
      "text/plain": [
       "<Figure size 640x480 with 2 Axes>"
      ]
     },
     "metadata": {},
     "output_type": "display_data"
    }
   ],
   "source": [
    "corr = pd.DataFrame(np.random.rand(10, 5)).corr()\n",
    "sns.heatmap(corr, annot=True)"
   ]
  },
  {
   "cell_type": "code",
   "execution_count": 1,
   "metadata": {},
   "outputs": [
    {
     "name": "stdout",
     "output_type": "stream",
     "text": [
      "The Unicode code point for '😃' is: 128515\n",
      "The hexadecimal representation is: 0x1f603\n"
     ]
    }
   ],
   "source": [
    "import unicodedata\n",
    "\n",
    "emoji = \"😃\"\n",
    "code_point = ord(emoji)  # Get the Unicode code point\n",
    "\n",
    "print(f\"The Unicode code point for '{emoji}' is: {code_point}\")\n",
    "\n",
    "# Convert the code point to hexadecimal\n",
    "hex_code = hex(code_point)\n",
    "print(f\"The hexadecimal representation is: {hex_code}\")"
   ]
  },
  {
   "cell_type": "code",
   "execution_count": 3,
   "metadata": {},
   "outputs": [
    {
     "name": "stdout",
     "output_type": "stream",
     "text": [
      "The hexadecimal representation of '😃' is: 0x1f603\n"
     ]
    }
   ],
   "source": [
    "# Define the character\n",
    "char = '😃'\n",
    "\n",
    "# Get the Unicode code point\n",
    "code_point = ord(char)\n",
    "\n",
    "# Convert the code point to a hexadecimal string\n",
    "hex_representation = f\"{code_point:04x}\"\n",
    "\n",
    "print(f\"The hexadecimal representation of '{char}' is: 0x{hex_representation}\")"
   ]
  },
  {
   "cell_type": "code",
   "execution_count": 5,
   "metadata": {},
   "outputs": [
    {
     "data": {
      "text/plain": [
       "'@elonmusk This is an example of https://fr.overleaf.com'"
      ]
     },
     "execution_count": 5,
     "metadata": {},
     "output_type": "execute_result"
    }
   ],
   "source": [
    "\"@elonmusk This is an example of https://fr.overleaf.com\""
   ]
  },
  {
   "cell_type": "code",
   "execution_count": null,
   "metadata": {},
   "outputs": [],
   "source": []
  }
 ],
 "metadata": {
  "kernelspec": {
   "display_name": "py39",
   "language": "python",
   "name": "python3"
  },
  "language_info": {
   "codemirror_mode": {
    "name": "ipython",
    "version": 3
   },
   "file_extension": ".py",
   "mimetype": "text/x-python",
   "name": "python",
   "nbconvert_exporter": "python",
   "pygments_lexer": "ipython3",
   "version": "3.9.19"
  }
 },
 "nbformat": 4,
 "nbformat_minor": 2
}
