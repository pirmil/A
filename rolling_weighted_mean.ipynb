{
 "cells": [
  {
   "cell_type": "code",
   "execution_count": 2,
   "metadata": {},
   "outputs": [],
   "source": [
    "import numpy as np\n",
    "import pandas as pd\n",
    "from datetime import datetime\n",
    "from typing import List\n",
    "import os"
   ]
  },
  {
   "cell_type": "code",
   "execution_count": 3,
   "metadata": {},
   "outputs": [],
   "source": [
    "def generate_emdeddings1d(date, features=['f1', 'f2'], clean_id_qis=['t1', 't2', 't3'], size=7, seed=0):\n",
    "    np.random.seed(seed)\n",
    "    df = pd.DataFrame({\n",
    "        'date': date,\n",
    "        'clean_id_qis': np.random.choice(clean_id_qis, size=size),\n",
    "    })\n",
    "    for f in features:\n",
    "        df[f] = np.abs(np.round(np.random.randn(size), 2))\n",
    "    return df\n",
    "\n",
    "def generate_cctnd_embeddings1d(dates: List[datetime], features=['f1', 'f2', 'f4'], clean_id_qis=['t1', 't2', 't3'], seed=0):\n",
    "    np.random.seed(seed)\n",
    "    seeds = np.random.randint(0, int(1e5), size=len(dates))\n",
    "    sizes = np.random.randint(1, 7, size=len(dates))\n",
    "    embeddings1ds = []\n",
    "    for i, date in enumerate(dates):\n",
    "        ciq = np.unique(np.random.choice(clean_id_qis, size=len(clean_id_qis)+1, replace=True))\n",
    "        embeddings1d = generate_emdeddings1d(date, features, ciq, sizes[i], seeds[i])\n",
    "        embeddings1ds.append(embeddings1d)\n",
    "    return pd.concat(embeddings1ds, axis=0)\n",
    "\n",
    "def generate_example(seed=0):\n",
    "    dates = [datetime(2018, 1, 1), datetime(2018, 1, 2), datetime(2018, 1, 5), datetime(2018, 1, 7), datetime(2018, 1, 8), datetime(2018, 1, 13)]\n",
    "    return (generate_cctnd_embeddings1d(dates, features=['f1', 'f2', 'weights'], seed=seed)\n",
    "        .drop('clean_id_qis', axis=1)\n",
    "        .drop_duplicates(subset='date')\n",
    "        .set_index('date'))\n",
    "\n",
    "def compute_rolling_weighted_mean(df: pd.DataFrame, weights_col: str, n_features: int, w: int, mp: int):\n",
    "    \"\"\"\n",
    "    Input: (index=Datetime; columns=features, weights_col)\n",
    "    Output: (index=Datetime; columns=features)\n",
    "    \"\"\"\n",
    "    assert df.shape[1] == n_features + 1\n",
    "    assert df.shape[0] == df.index.nunique()\n",
    "    df.index = pd.to_datetime(df.index)\n",
    "    df.sort_index(inplace=True)\n",
    "    weights = df[weights_col]\n",
    "    df.drop(weights_col, axis=1, inplace=True)\n",
    "    rolling_weighted_sum = (df\n",
    "        .mul(weights, axis=0)\n",
    "        .rolling(window=w, min_periods=mp)\n",
    "        .sum())\n",
    "    weights_rolling_sum = (weights\n",
    "        .rolling(window=w, min_periods=mp)\n",
    "        .sum())\n",
    "    rolling_weighted_mean = rolling_weighted_sum.div(weights_rolling_sum, axis=0)\n",
    "    return rolling_weighted_mean"
   ]
  },
  {
   "cell_type": "code",
   "execution_count": 4,
   "metadata": {},
   "outputs": [
    {
     "name": "stdout",
     "output_type": "stream",
     "text": [
      "Initial dataframe\n"
     ]
    },
    {
     "data": {
      "text/html": [
       "<div>\n",
       "<style scoped>\n",
       "    .dataframe tbody tr th:only-of-type {\n",
       "        vertical-align: middle;\n",
       "    }\n",
       "\n",
       "    .dataframe tbody tr th {\n",
       "        vertical-align: top;\n",
       "    }\n",
       "\n",
       "    .dataframe thead th {\n",
       "        text-align: right;\n",
       "    }\n",
       "</style>\n",
       "<table border=\"1\" class=\"dataframe\">\n",
       "  <thead>\n",
       "    <tr style=\"text-align: right;\">\n",
       "      <th></th>\n",
       "      <th>f1</th>\n",
       "      <th>f2</th>\n",
       "      <th>weights</th>\n",
       "    </tr>\n",
       "    <tr>\n",
       "      <th>date</th>\n",
       "      <th></th>\n",
       "      <th></th>\n",
       "      <th></th>\n",
       "    </tr>\n",
       "  </thead>\n",
       "  <tbody>\n",
       "    <tr>\n",
       "      <th>2018-01-01</th>\n",
       "      <td>1.41</td>\n",
       "      <td>0.86</td>\n",
       "      <td>0.16</td>\n",
       "    </tr>\n",
       "    <tr>\n",
       "      <th>2018-01-02</th>\n",
       "      <td>0.69</td>\n",
       "      <td>0.56</td>\n",
       "      <td>0.61</td>\n",
       "    </tr>\n",
       "    <tr>\n",
       "      <th>2018-01-05</th>\n",
       "      <td>0.20</td>\n",
       "      <td>1.41</td>\n",
       "      <td>0.71</td>\n",
       "    </tr>\n",
       "    <tr>\n",
       "      <th>2018-01-07</th>\n",
       "      <td>0.69</td>\n",
       "      <td>0.89</td>\n",
       "      <td>1.43</td>\n",
       "    </tr>\n",
       "    <tr>\n",
       "      <th>2018-01-08</th>\n",
       "      <td>0.28</td>\n",
       "      <td>0.96</td>\n",
       "      <td>1.82</td>\n",
       "    </tr>\n",
       "    <tr>\n",
       "      <th>2018-01-13</th>\n",
       "      <td>0.51</td>\n",
       "      <td>1.79</td>\n",
       "      <td>0.33</td>\n",
       "    </tr>\n",
       "  </tbody>\n",
       "</table>\n",
       "</div>"
      ],
      "text/plain": [
       "              f1    f2  weights\n",
       "date                           \n",
       "2018-01-01  1.41  0.86     0.16\n",
       "2018-01-02  0.69  0.56     0.61\n",
       "2018-01-05  0.20  1.41     0.71\n",
       "2018-01-07  0.69  0.89     1.43\n",
       "2018-01-08  0.28  0.96     1.82\n",
       "2018-01-13  0.51  1.79     0.33"
      ]
     },
     "metadata": {},
     "output_type": "display_data"
    }
   ],
   "source": [
    "df_example = generate_example()\n",
    "print(\"Initial dataframe\")\n",
    "display(df_example)\n",
    "weights = df_example[\"weights\"]\n",
    "df_example.drop(\"weights\", axis=1, inplace=True)"
   ]
  },
  {
   "cell_type": "code",
   "execution_count": 5,
   "metadata": {},
   "outputs": [
    {
     "data": {
      "text/html": [
       "<div>\n",
       "<style scoped>\n",
       "    .dataframe tbody tr th:only-of-type {\n",
       "        vertical-align: middle;\n",
       "    }\n",
       "\n",
       "    .dataframe tbody tr th {\n",
       "        vertical-align: top;\n",
       "    }\n",
       "\n",
       "    .dataframe thead th {\n",
       "        text-align: right;\n",
       "    }\n",
       "</style>\n",
       "<table border=\"1\" class=\"dataframe\">\n",
       "  <thead>\n",
       "    <tr style=\"text-align: right;\">\n",
       "      <th></th>\n",
       "      <th>f1</th>\n",
       "      <th>f2</th>\n",
       "    </tr>\n",
       "    <tr>\n",
       "      <th>date</th>\n",
       "      <th></th>\n",
       "      <th></th>\n",
       "    </tr>\n",
       "  </thead>\n",
       "  <tbody>\n",
       "    <tr>\n",
       "      <th>2018-01-01</th>\n",
       "      <td>1.41</td>\n",
       "      <td>0.86</td>\n",
       "    </tr>\n",
       "    <tr>\n",
       "      <th>2018-01-02</th>\n",
       "      <td>0.84</td>\n",
       "      <td>0.62</td>\n",
       "    </tr>\n",
       "    <tr>\n",
       "      <th>2018-01-05</th>\n",
       "      <td>0.53</td>\n",
       "      <td>1.00</td>\n",
       "    </tr>\n",
       "    <tr>\n",
       "      <th>2018-01-07</th>\n",
       "      <td>0.61</td>\n",
       "      <td>0.95</td>\n",
       "    </tr>\n",
       "    <tr>\n",
       "      <th>2018-01-08</th>\n",
       "      <td>0.45</td>\n",
       "      <td>0.95</td>\n",
       "    </tr>\n",
       "    <tr>\n",
       "      <th>2018-01-13</th>\n",
       "      <td>0.46</td>\n",
       "      <td>1.01</td>\n",
       "    </tr>\n",
       "  </tbody>\n",
       "</table>\n",
       "</div>"
      ],
      "text/plain": [
       "              f1    f2\n",
       "date                  \n",
       "2018-01-01  1.41  0.86\n",
       "2018-01-02  0.84  0.62\n",
       "2018-01-05  0.53  1.00\n",
       "2018-01-07  0.61  0.95\n",
       "2018-01-08  0.45  0.95\n",
       "2018-01-13  0.46  1.01"
      ]
     },
     "execution_count": 5,
     "metadata": {},
     "output_type": "execute_result"
    }
   ],
   "source": [
    "window = '7D'\n",
    "min_periods = 1\n",
    "rolling_weighted_sum = df_example.mul(weights, axis=0).rolling(window=window, min_periods=min_periods).sum()\n",
    "rolling_sum = weights.rolling(window=window, min_periods=min_periods).sum()\n",
    "rolling_weighted_mean = rolling_weighted_sum.div(rolling_sum, axis=0)\n",
    "rolling_weighted_mean.round(2)"
   ]
  },
  {
   "cell_type": "code",
   "execution_count": 6,
   "metadata": {},
   "outputs": [
    {
     "data": {
      "text/html": [
       "<div>\n",
       "<style scoped>\n",
       "    .dataframe tbody tr th:only-of-type {\n",
       "        vertical-align: middle;\n",
       "    }\n",
       "\n",
       "    .dataframe tbody tr th {\n",
       "        vertical-align: top;\n",
       "    }\n",
       "\n",
       "    .dataframe thead th {\n",
       "        text-align: right;\n",
       "    }\n",
       "</style>\n",
       "<table border=\"1\" class=\"dataframe\">\n",
       "  <thead>\n",
       "    <tr style=\"text-align: right;\">\n",
       "      <th></th>\n",
       "      <th>f1</th>\n",
       "      <th>f2</th>\n",
       "    </tr>\n",
       "    <tr>\n",
       "      <th>date</th>\n",
       "      <th></th>\n",
       "      <th></th>\n",
       "    </tr>\n",
       "  </thead>\n",
       "  <tbody>\n",
       "    <tr>\n",
       "      <th>2018-01-01</th>\n",
       "      <td>1.41</td>\n",
       "      <td>0.86</td>\n",
       "    </tr>\n",
       "    <tr>\n",
       "      <th>2018-01-02</th>\n",
       "      <td>0.84</td>\n",
       "      <td>0.62</td>\n",
       "    </tr>\n",
       "    <tr>\n",
       "      <th>2018-01-05</th>\n",
       "      <td>0.53</td>\n",
       "      <td>1.00</td>\n",
       "    </tr>\n",
       "    <tr>\n",
       "      <th>2018-01-07</th>\n",
       "      <td>0.61</td>\n",
       "      <td>0.95</td>\n",
       "    </tr>\n",
       "    <tr>\n",
       "      <th>2018-01-08</th>\n",
       "      <td>0.45</td>\n",
       "      <td>0.95</td>\n",
       "    </tr>\n",
       "    <tr>\n",
       "      <th>2018-01-13</th>\n",
       "      <td>0.46</td>\n",
       "      <td>1.01</td>\n",
       "    </tr>\n",
       "  </tbody>\n",
       "</table>\n",
       "</div>"
      ],
      "text/plain": [
       "              f1    f2\n",
       "date                  \n",
       "2018-01-01  1.41  0.86\n",
       "2018-01-02  0.84  0.62\n",
       "2018-01-05  0.53  1.00\n",
       "2018-01-07  0.61  0.95\n",
       "2018-01-08  0.45  0.95\n",
       "2018-01-13  0.46  1.01"
      ]
     },
     "metadata": {},
     "output_type": "display_data"
    }
   ],
   "source": [
    "df_example = generate_example()\n",
    "res = compute_rolling_weighted_mean(df_example, weights_col='weights', n_features=2, w=window, mp=min_periods)\n",
    "display(res.round(2))\n",
    "assert res.equals(rolling_weighted_mean)"
   ]
  },
  {
   "cell_type": "code",
   "execution_count": 7,
   "metadata": {},
   "outputs": [],
   "source": [
    "def weighted_mean(a, w):\n",
    "    return (a * w).sum() / w.sum()"
   ]
  },
  {
   "cell_type": "code",
   "execution_count": 8,
   "metadata": {},
   "outputs": [
    {
     "data": {
      "text/plain": [
       "0.527429906542056"
      ]
     },
     "execution_count": 8,
     "metadata": {},
     "output_type": "execute_result"
    }
   ],
   "source": [
    "a = np.array([.2, .69])\n",
    "w = np.array([.71, 1.43])\n",
    "weighted_mean(a, w)"
   ]
  },
  {
   "cell_type": "code",
   "execution_count": 9,
   "metadata": {},
   "outputs": [
    {
     "data": {
      "text/plain": [
       "1.6666666666666667"
      ]
     },
     "execution_count": 9,
     "metadata": {},
     "output_type": "execute_result"
    }
   ],
   "source": [
    "5/3"
   ]
  },
  {
   "cell_type": "code",
   "execution_count": null,
   "metadata": {},
   "outputs": [],
   "source": []
  }
 ],
 "metadata": {
  "kernelspec": {
   "display_name": "py39",
   "language": "python",
   "name": "python3"
  },
  "language_info": {
   "codemirror_mode": {
    "name": "ipython",
    "version": 3
   },
   "file_extension": ".py",
   "mimetype": "text/x-python",
   "name": "python",
   "nbconvert_exporter": "python",
   "pygments_lexer": "ipython3",
   "version": "3.9.19"
  }
 },
 "nbformat": 4,
 "nbformat_minor": 2
}
