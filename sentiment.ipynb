{
 "cells": [
  {
   "cell_type": "code",
   "execution_count": 22,
   "metadata": {},
   "outputs": [],
   "source": [
    "import pandas as pd\n",
    "import torch\n",
    "import torch.nn.functional as F\n",
    "from sklearn.metrics.pairwise import cosine_similarity\n",
    "from transformers import AutoModelForSequenceClassification\n",
    "from transformers import AutoTokenizer, AutoConfig\n",
    "from helper_sentiment import get_sentiment\n",
    "from data_helper import select_first_n_occurences, main, main_2_pos_2_neg\n",
    "device = 'cuda' if torch.cuda.is_available() else 'cpu'"
   ]
  },
  {
   "cell_type": "code",
   "execution_count": 2,
   "metadata": {},
   "outputs": [
    {
     "name": "stderr",
     "output_type": "stream",
     "text": [
      "Some weights of the model checkpoint at cardiffnlp/twitter-roberta-base-sentiment-latest were not used when initializing RobertaForSequenceClassification: ['roberta.pooler.dense.bias', 'roberta.pooler.dense.weight']\n",
      "- This IS expected if you are initializing RobertaForSequenceClassification from the checkpoint of a model trained on another task or with another architecture (e.g. initializing a BertForSequenceClassification model from a BertForPreTraining model).\n",
      "- This IS NOT expected if you are initializing RobertaForSequenceClassification from the checkpoint of a model that you expect to be exactly identical (initializing a BertForSequenceClassification model from a BertForSequenceClassification model).\n"
     ]
    }
   ],
   "source": [
    "MODEL = f\"cardiffnlp/twitter-roberta-base-sentiment-latest\"\n",
    "tokenizer = AutoTokenizer.from_pretrained(MODEL)\n",
    "config = AutoConfig.from_pretrained(MODEL)\n",
    "model = AutoModelForSequenceClassification.from_pretrained(MODEL).to(device)"
   ]
  },
  {
   "cell_type": "code",
   "execution_count": 30,
   "metadata": {},
   "outputs": [
    {
     "name": "stdout",
     "output_type": "stream",
     "text": [
      "30 rows\n"
     ]
    }
   ],
   "source": [
    "col = \"StoryBody\"\n",
    "df_bis = main_2_pos_2_neg()"
   ]
  },
  {
   "cell_type": "code",
   "execution_count": 31,
   "metadata": {},
   "outputs": [
    {
     "data": {
      "text/plain": [
       "tensor([[0.7236, 0.2287, 0.0477],\n",
       "        [0.7236, 0.2287, 0.0477],\n",
       "        [0.7236, 0.2287, 0.0477]])"
      ]
     },
     "execution_count": 31,
     "metadata": {},
     "output_type": "execute_result"
    }
   ],
   "source": [
    "text = \"Covid cases are increasing fast!\"\n",
    "get_sentiment([text, text, text], model, tokenizer, device, as_softmax=True)"
   ]
  },
  {
   "cell_type": "markdown",
   "metadata": {},
   "source": [
    "## Second example"
   ]
  },
  {
   "cell_type": "code",
   "execution_count": 5,
   "metadata": {},
   "outputs": [],
   "source": [
    "df_bis, _ = select_first_n_occurences(df_bis, n=2)"
   ]
  },
  {
   "cell_type": "code",
   "execution_count": 24,
   "metadata": {},
   "outputs": [
    {
     "data": {
      "text/html": [
       "<div>\n",
       "<style scoped>\n",
       "    .dataframe tbody tr th:only-of-type {\n",
       "        vertical-align: middle;\n",
       "    }\n",
       "\n",
       "    .dataframe tbody tr th {\n",
       "        vertical-align: top;\n",
       "    }\n",
       "\n",
       "    .dataframe thead th {\n",
       "        text-align: right;\n",
       "    }\n",
       "</style>\n",
       "<table border=\"1\" class=\"dataframe\">\n",
       "  <thead>\n",
       "    <tr style=\"text-align: right;\">\n",
       "      <th></th>\n",
       "      <th>StoryBody</th>\n",
       "      <th>id_qis</th>\n",
       "      <th>Negative</th>\n",
       "      <th>Neutral</th>\n",
       "      <th>Positive</th>\n",
       "    </tr>\n",
       "  </thead>\n",
       "  <tbody>\n",
       "    <tr>\n",
       "      <th>0</th>\n",
       "      <td>Excellent.</td>\n",
       "      <td>id3</td>\n",
       "      <td>0.019136</td>\n",
       "      <td>0.075585</td>\n",
       "      <td>0.905279</td>\n",
       "    </tr>\n",
       "    <tr>\n",
       "      <th>1</th>\n",
       "      <td>This is quite rare.</td>\n",
       "      <td>id2</td>\n",
       "      <td>0.051600</td>\n",
       "      <td>0.694163</td>\n",
       "      <td>0.254237</td>\n",
       "    </tr>\n",
       "    <tr>\n",
       "      <th>2</th>\n",
       "      <td>The CEO is completely crazy.</td>\n",
       "      <td>id1</td>\n",
       "      <td>0.885894</td>\n",
       "      <td>0.095818</td>\n",
       "      <td>0.018288</td>\n",
       "    </tr>\n",
       "    <tr>\n",
       "      <th>3</th>\n",
       "      <td>This is interesting.</td>\n",
       "      <td>id3</td>\n",
       "      <td>0.005564</td>\n",
       "      <td>0.092826</td>\n",
       "      <td>0.901610</td>\n",
       "    </tr>\n",
       "    <tr>\n",
       "      <th>4</th>\n",
       "      <td>This stock is overrated.</td>\n",
       "      <td>id1</td>\n",
       "      <td>0.890461</td>\n",
       "      <td>0.097445</td>\n",
       "      <td>0.012094</td>\n",
       "    </tr>\n",
       "    <tr>\n",
       "      <th>5</th>\n",
       "      <td>I love this firm.</td>\n",
       "      <td>id2</td>\n",
       "      <td>0.005037</td>\n",
       "      <td>0.015687</td>\n",
       "      <td>0.979276</td>\n",
       "    </tr>\n",
       "    <tr>\n",
       "      <th>6</th>\n",
       "      <td>I love this firm.</td>\n",
       "      <td>id2</td>\n",
       "      <td>0.005037</td>\n",
       "      <td>0.015687</td>\n",
       "      <td>0.979276</td>\n",
       "    </tr>\n",
       "    <tr>\n",
       "      <th>7</th>\n",
       "      <td>This is interesting.</td>\n",
       "      <td>id3</td>\n",
       "      <td>0.005564</td>\n",
       "      <td>0.092826</td>\n",
       "      <td>0.901610</td>\n",
       "    </tr>\n",
       "    <tr>\n",
       "      <th>8</th>\n",
       "      <td>i dislike it so much.</td>\n",
       "      <td>id5</td>\n",
       "      <td>0.924528</td>\n",
       "      <td>0.066234</td>\n",
       "      <td>0.009238</td>\n",
       "    </tr>\n",
       "    <tr>\n",
       "      <th>9</th>\n",
       "      <td>I would like to buy their items.</td>\n",
       "      <td>id2</td>\n",
       "      <td>0.011937</td>\n",
       "      <td>0.621672</td>\n",
       "      <td>0.366390</td>\n",
       "    </tr>\n",
       "    <tr>\n",
       "      <th>10</th>\n",
       "      <td>i dislike it so much.</td>\n",
       "      <td>id5</td>\n",
       "      <td>0.924528</td>\n",
       "      <td>0.066234</td>\n",
       "      <td>0.009238</td>\n",
       "    </tr>\n",
       "    <tr>\n",
       "      <th>11</th>\n",
       "      <td>It deserves to be ignored.</td>\n",
       "      <td>id5</td>\n",
       "      <td>0.896546</td>\n",
       "      <td>0.093942</td>\n",
       "      <td>0.009511</td>\n",
       "    </tr>\n",
       "    <tr>\n",
       "      <th>12</th>\n",
       "      <td>This stock is overrated.</td>\n",
       "      <td>id1</td>\n",
       "      <td>0.890461</td>\n",
       "      <td>0.097445</td>\n",
       "      <td>0.012094</td>\n",
       "    </tr>\n",
       "    <tr>\n",
       "      <th>14</th>\n",
       "      <td>The CEO is completely crazy.</td>\n",
       "      <td>id1</td>\n",
       "      <td>0.885894</td>\n",
       "      <td>0.095818</td>\n",
       "      <td>0.018288</td>\n",
       "    </tr>\n",
       "    <tr>\n",
       "      <th>15</th>\n",
       "      <td>It deserves to be ignored.</td>\n",
       "      <td>id5</td>\n",
       "      <td>0.896546</td>\n",
       "      <td>0.093942</td>\n",
       "      <td>0.009511</td>\n",
       "    </tr>\n",
       "    <tr>\n",
       "      <th>16</th>\n",
       "      <td>Excellent.</td>\n",
       "      <td>id3</td>\n",
       "      <td>0.019136</td>\n",
       "      <td>0.075585</td>\n",
       "      <td>0.905279</td>\n",
       "    </tr>\n",
       "    <tr>\n",
       "      <th>19</th>\n",
       "      <td>Can't wait to see their new CEO!</td>\n",
       "      <td>id3</td>\n",
       "      <td>0.001387</td>\n",
       "      <td>0.012478</td>\n",
       "      <td>0.986135</td>\n",
       "    </tr>\n",
       "    <tr>\n",
       "      <th>21</th>\n",
       "      <td>This is a scandal.</td>\n",
       "      <td>id1</td>\n",
       "      <td>0.846924</td>\n",
       "      <td>0.137570</td>\n",
       "      <td>0.015507</td>\n",
       "    </tr>\n",
       "    <tr>\n",
       "      <th>24</th>\n",
       "      <td>Can't wait to see their new CEO!</td>\n",
       "      <td>id3</td>\n",
       "      <td>0.001387</td>\n",
       "      <td>0.012478</td>\n",
       "      <td>0.986135</td>\n",
       "    </tr>\n",
       "  </tbody>\n",
       "</table>\n",
       "</div>"
      ],
      "text/plain": [
       "                           StoryBody id_qis  Negative   Neutral  Positive\n",
       "0                         Excellent.    id3  0.019136  0.075585  0.905279\n",
       "1                This is quite rare.    id2  0.051600  0.694163  0.254237\n",
       "2       The CEO is completely crazy.    id1  0.885894  0.095818  0.018288\n",
       "3               This is interesting.    id3  0.005564  0.092826  0.901610\n",
       "4           This stock is overrated.    id1  0.890461  0.097445  0.012094\n",
       "5                  I love this firm.    id2  0.005037  0.015687  0.979276\n",
       "6                  I love this firm.    id2  0.005037  0.015687  0.979276\n",
       "7               This is interesting.    id3  0.005564  0.092826  0.901610\n",
       "8              i dislike it so much.    id5  0.924528  0.066234  0.009238\n",
       "9   I would like to buy their items.    id2  0.011937  0.621672  0.366390\n",
       "10             i dislike it so much.    id5  0.924528  0.066234  0.009238\n",
       "11        It deserves to be ignored.    id5  0.896546  0.093942  0.009511\n",
       "12          This stock is overrated.    id1  0.890461  0.097445  0.012094\n",
       "14      The CEO is completely crazy.    id1  0.885894  0.095818  0.018288\n",
       "15        It deserves to be ignored.    id5  0.896546  0.093942  0.009511\n",
       "16                        Excellent.    id3  0.019136  0.075585  0.905279\n",
       "19  Can't wait to see their new CEO!    id3  0.001387  0.012478  0.986135\n",
       "21                This is a scandal.    id1  0.846924  0.137570  0.015507\n",
       "24  Can't wait to see their new CEO!    id3  0.001387  0.012478  0.986135"
      ]
     },
     "metadata": {},
     "output_type": "display_data"
    }
   ],
   "source": [
    "sentiment_df = pd.DataFrame(get_sentiment(df_bis[col].to_list(), model, tokenizer, device, as_softmax=True), index=df_bis.index, columns=['Negative', 'Neutral', 'Positive'])\n",
    "df_res = pd.concat((df_bis, sentiment_df), axis=1)\n",
    "display(df_res)\n",
    "df_res = df_res.drop(\"StoryBody\", axis=1).groupby('id_qis').mean()"
   ]
  },
  {
   "cell_type": "code",
   "execution_count": 27,
   "metadata": {},
   "outputs": [
    {
     "data": {
      "text/html": [
       "<div>\n",
       "<style scoped>\n",
       "    .dataframe tbody tr th:only-of-type {\n",
       "        vertical-align: middle;\n",
       "    }\n",
       "\n",
       "    .dataframe tbody tr th {\n",
       "        vertical-align: top;\n",
       "    }\n",
       "\n",
       "    .dataframe thead th {\n",
       "        text-align: right;\n",
       "    }\n",
       "</style>\n",
       "<table border=\"1\" class=\"dataframe\">\n",
       "  <thead>\n",
       "    <tr style=\"text-align: right;\">\n",
       "      <th>id_qis</th>\n",
       "      <th>id1</th>\n",
       "      <th>id2</th>\n",
       "      <th>id3</th>\n",
       "      <th>id5</th>\n",
       "    </tr>\n",
       "    <tr>\n",
       "      <th>id_qis</th>\n",
       "      <th></th>\n",
       "      <th></th>\n",
       "      <th></th>\n",
       "      <th></th>\n",
       "    </tr>\n",
       "  </thead>\n",
       "  <tbody>\n",
       "    <tr>\n",
       "      <th>id1</th>\n",
       "      <td>1.000000</td>\n",
       "      <td>0.095098</td>\n",
       "      <td>0.034071</td>\n",
       "      <td>0.999501</td>\n",
       "    </tr>\n",
       "    <tr>\n",
       "      <th>id2</th>\n",
       "      <td>0.095098</td>\n",
       "      <td>1.000000</td>\n",
       "      <td>0.914339</td>\n",
       "      <td>0.074829</td>\n",
       "    </tr>\n",
       "    <tr>\n",
       "      <th>id3</th>\n",
       "      <td>0.034071</td>\n",
       "      <td>0.914339</td>\n",
       "      <td>1.000000</td>\n",
       "      <td>0.025180</td>\n",
       "    </tr>\n",
       "    <tr>\n",
       "      <th>id5</th>\n",
       "      <td>0.999501</td>\n",
       "      <td>0.074829</td>\n",
       "      <td>0.025180</td>\n",
       "      <td>1.000000</td>\n",
       "    </tr>\n",
       "  </tbody>\n",
       "</table>\n",
       "</div>"
      ],
      "text/plain": [
       "id_qis       id1       id2       id3       id5\n",
       "id_qis                                        \n",
       "id1     1.000000  0.095098  0.034071  0.999501\n",
       "id2     0.095098  1.000000  0.914339  0.074829\n",
       "id3     0.034071  0.914339  1.000000  0.025180\n",
       "id5     0.999501  0.074829  0.025180  1.000000"
      ]
     },
     "execution_count": 27,
     "metadata": {},
     "output_type": "execute_result"
    }
   ],
   "source": [
    "pd.DataFrame(cosine_similarity(df_res), index=df_res.index, columns=df_res.index)"
   ]
  },
  {
   "cell_type": "code",
   "execution_count": 29,
   "metadata": {},
   "outputs": [
    {
     "name": "stdout",
     "output_type": "stream",
     "text": [
      "id1: The CEO is completely crazy. This stock is overrated. This stock is overrated. The CEO is completely crazy. This is a scandal.\n",
      "id2: This is quite rare. I love this firm. I love this firm. I would like to buy their items.\n",
      "id3: Excellent. This is interesting. This is interesting. Excellent. Can't wait to see their new CEO! Can't wait to see their new CEO!\n",
      "id5: i dislike it so much. i dislike it so much. It deserves to be ignored. It deserves to be ignored.\n"
     ]
    }
   ],
   "source": [
    "for id_qi in df_res.index:\n",
    "    print(f\"{id_qi}:\", \" \".join(df_bis[df_bis['id_qis']==id_qi][col].to_list()))"
   ]
  },
  {
   "cell_type": "code",
   "execution_count": null,
   "metadata": {},
   "outputs": [],
   "source": []
  }
 ],
 "metadata": {
  "kernelspec": {
   "display_name": "py39",
   "language": "python",
   "name": "python3"
  },
  "language_info": {
   "codemirror_mode": {
    "name": "ipython",
    "version": 3
   },
   "file_extension": ".py",
   "mimetype": "text/x-python",
   "name": "python",
   "nbconvert_exporter": "python",
   "pygments_lexer": "ipython3",
   "version": "3.9.19"
  }
 },
 "nbformat": 4,
 "nbformat_minor": 2
}
