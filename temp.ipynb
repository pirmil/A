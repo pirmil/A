{
 "cells": [
  {
   "cell_type": "code",
   "execution_count": 2,
   "metadata": {},
   "outputs": [],
   "source": [
    "import numpy as np"
   ]
  },
  {
   "cell_type": "code",
   "execution_count": 15,
   "metadata": {},
   "outputs": [
    {
     "name": "stdout",
     "output_type": "stream",
     "text": [
      "0\n"
     ]
    }
   ],
   "source": [
    "\n",
    "days = np.array([\"2010-01-01\", \"2010-01-03\", \"2010-01-04\", \"2010-01-05\", \"2010-01-06\"])\n",
    "nbatches = np.array([6, 0, 1, 3, 0])\n",
    "assert len(nbatches) == len(days)\n",
    "cum_nbatches = np.cumsum(nbatches)\n",
    "batch_idx = 5\n",
    "true_batch_idx = batch_idx + 1\n",
    "\n",
    "day_idx = np.searchsorted(cum_nbatches, true_batch_idx, side='left')\n",
    "print(day_idx)"
   ]
  },
  {
   "cell_type": "code",
   "execution_count": 38,
   "metadata": {},
   "outputs": [
    {
     "name": "stdout",
     "output_type": "stream",
     "text": [
      "2010-01-01 0 0\n",
      "2010-01-01 1 1\n",
      "2010-01-01 2 2\n",
      "2010-01-01 3 3\n",
      "2010-01-01 4 4\n",
      "2010-01-01 5 5\n",
      "2010-01-04 6 0\n",
      "2010-01-05 7 0\n",
      "2010-01-05 8 1\n",
      "2010-01-05 9 2\n"
     ]
    }
   ],
   "source": [
    "batch_idx2day = {}\n",
    "batch_idx2idx_limit = {} # for each batch, get the limits assuming that the \n",
    "for batch_idx in range(cum_nbatches[-1]):\n",
    "    day_idx = np.searchsorted(cum_nbatches, batch_idx + 1, side='left')\n",
    "    day = days[day_idx]\n",
    "    batch_idx2day[batch_idx] = day\n",
    "    if day_idx >= 1:\n",
    "        local_batch_idx = batch_idx - cum_nbatches[day_idx-1]\n",
    "    else:\n",
    "        local_batch_idx = batch_idx\n",
    "    print(day, batch_idx, local_batch_idx)\n",
    "\n",
    "    assert 0 <= local_batch_idx <= day2nbatches[day] - 1\n",
    "    start_idx = batch_size * local_batch_idx\n",
    "    end_idx = batch_size * (local_batch_idx + 1)\n",
    "    id_qis_d_i = day2id_qi_pairs_i[day][start_idx:end_idx]\n",
    "    id_qis_d_j = day2id_qi_pairs_j[day][start_idx:end_idx] \n",
    "    assert len(id_qis_d_i) == batch_size\n",
    "\n",
    "    batch2id_qis_d_i[batch_idx] = id_qis_d_i\n",
    "    batch2id_qis_d_j[batch_idx] = id_qis_d_j\n",
    "\n",
    "\n",
    "# maintenant, dans le getitem, il suffit de faire\n",
    "\n",
    "def getitem(batch_idx):\n",
    "    day = batch_idx2day[batch_idx]\n",
    "    fcorr_d = fcorr.loc[day]\n",
    "    id_qis_d_i = batch2id_qis_d_i[batch_idx]\n",
    "    id_qis_d_j = batch2id_qis_d_j[batch_idx]\n",
    "    seqs_i, seqs_j, tgts_ij = [], [], []\n",
    "    for id_qi_i, id_qi_j in zip(id_qis_d_i, id_qis_d_j):\n",
    "        fc_ij = fcorr_d.loc[id_qi_i, id_qi_j]\n",
    "        if np.isnan(fc_ij): \n",
    "            continue\n",
    "        indices_i = day2id_qi2idx[day][id_qi_i]\n",
    "        indices_j = day2id_qi2idx[day][id_qi_j]\n",
    "        seqs_i.append(stack_df.iloc[indices_i])\n",
    "        seqs_j.append(stack_df.iloc[indices_j])\n",
    "        tgts_ij.append(fc_ij)\n",
    "\n",
    "\n"
   ]
  },
  {
   "cell_type": "code",
   "execution_count": 17,
   "metadata": {},
   "outputs": [
    {
     "data": {
      "text/plain": [
       "{0: '2010-01-01',\n",
       " 1: '2010-01-01',\n",
       " 2: '2010-01-01',\n",
       " 3: '2010-01-01',\n",
       " 4: '2010-01-01',\n",
       " 5: '2010-01-01',\n",
       " 6: '2010-01-04',\n",
       " 7: '2010-01-05',\n",
       " 8: '2010-01-05',\n",
       " 9: '2010-01-05'}"
      ]
     },
     "execution_count": 17,
     "metadata": {},
     "output_type": "execute_result"
    }
   ],
   "source": [
    "batch_idx2day"
   ]
  },
  {
   "cell_type": "code",
   "execution_count": 24,
   "metadata": {},
   "outputs": [
    {
     "data": {
      "text/plain": [
       "(10,\n",
       " array([['2010-01-01', '2010-01-03'],\n",
       "        ['2010-01-01', '2010-01-04'],\n",
       "        ['2010-01-01', '2010-01-05'],\n",
       "        ['2010-01-01', '2010-01-06'],\n",
       "        ['2010-01-03', '2010-01-04'],\n",
       "        ['2010-01-03', '2010-01-05'],\n",
       "        ['2010-01-03', '2010-01-06'],\n",
       "        ['2010-01-04', '2010-01-05'],\n",
       "        ['2010-01-04', '2010-01-06'],\n",
       "        ['2010-01-05', '2010-01-06']], dtype='<U10'))"
      ]
     },
     "execution_count": 24,
     "metadata": {},
     "output_type": "execute_result"
    }
   ],
   "source": [
    "i_idx, j_idx = np.triu_indices(len(days), k=1)\n",
    "day_pairs = np.array(list(zip(days[i_idx], days[j_idx])))\n",
    "len(day_pairs), day_pairs"
   ]
  },
  {
   "cell_type": "code",
   "execution_count": 21,
   "metadata": {},
   "outputs": [
    {
     "data": {
      "text/plain": [
       "10.0"
      ]
     },
     "execution_count": 21,
     "metadata": {},
     "output_type": "execute_result"
    }
   ],
   "source": [
    "len(days) * (len(days)-1) * 0.5"
   ]
  },
  {
   "cell_type": "code",
   "execution_count": 34,
   "metadata": {},
   "outputs": [
    {
     "data": {
      "text/plain": [
       "array(['2010-01-01', '2010-01-03', '2010-01-04', '2010-01-05'],\n",
       "      dtype='<U10')"
      ]
     },
     "execution_count": 34,
     "metadata": {},
     "output_type": "execute_result"
    }
   ],
   "source": [
    "days[0:len(days)-1]"
   ]
  },
  {
   "cell_type": "code",
   "execution_count": 36,
   "metadata": {},
   "outputs": [
    {
     "data": {
      "text/plain": [
       "['2010-01-01', '2010-01-03', '2010-01-04', '2010-01-05']"
      ]
     },
     "execution_count": 36,
     "metadata": {},
     "output_type": "execute_result"
    }
   ],
   "source": [
    "list(days)[0:len(days)-1]"
   ]
  },
  {
   "cell_type": "code",
   "execution_count": null,
   "metadata": {},
   "outputs": [],
   "source": []
  }
 ],
 "metadata": {
  "kernelspec": {
   "display_name": "py39",
   "language": "python",
   "name": "python3"
  },
  "language_info": {
   "codemirror_mode": {
    "name": "ipython",
    "version": 3
   },
   "file_extension": ".py",
   "mimetype": "text/x-python",
   "name": "python",
   "nbconvert_exporter": "python",
   "pygments_lexer": "ipython3",
   "version": "3.9.19"
  }
 },
 "nbformat": 4,
 "nbformat_minor": 2
}
