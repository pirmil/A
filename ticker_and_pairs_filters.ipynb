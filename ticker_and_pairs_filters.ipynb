{
 "cells": [
  {
   "cell_type": "code",
   "execution_count": 1,
   "metadata": {},
   "outputs": [],
   "source": [
    "import numpy as np\n",
    "import pandas as pd\n",
    "import random\n",
    "from sklearn.preprocessing import StandardScaler\n",
    "from sklearn.metrics.pairwise import cosine_similarity\n",
    "import statsmodels.api as sm"
   ]
  },
  {
   "cell_type": "code",
   "execution_count": 3,
   "metadata": {},
   "outputs": [],
   "source": [
    "def generate_correl_matrix(index, seed=0, round=2):\n",
    "    np.random.seed(seed)\n",
    "    N = len(index)\n",
    "    matrix = np.random.uniform(-1, 1, size=(N, N))\n",
    "    np.fill_diagonal(matrix, 1.)\n",
    "    matrix = (matrix + matrix.T) / 2\n",
    "    return pd.DataFrame(matrix, index=index, columns=index).round(round)\n",
    "\n",
    "def generate_embeddings_da(N=5, d=7, seed=0, round=2):\n",
    "    np.random.seed(seed)\n",
    "    random.seed(seed)\n",
    "    id_qis = np.array(random.sample(range(0, 2*N), N)).astype(\"str\")\n",
    "    return pd.DataFrame(np.random.randn(N, d), index=id_qis).round(round)\n",
    "\n",
    "def compute_cossim(emb: pd.DataFrame, round=2):\n",
    "    return pd.DataFrame(cosine_similarity(emb), index=emb.index, columns=emb.index).round(round)\n",
    "\n",
    "def filter_top_hst_correl(hst_corr: pd.DataFrame, r=0.25):\n",
    "    \"\"\"\n",
    "    Output: 1d boolean mask (n_pairs,)\n",
    "    \"\"\"\n",
    "    if not (0 < r < 1): raise ValueError(f\"r must be between 0 and 1: {r}\")\n",
    "    i_indices, j_indices = np.triu_indices(hst_corr.shape[0], k=1)\n",
    "    hst_corr_flat = hst_corr.to_numpy()[i_indices, j_indices]\n",
    "    threshold = np.percentile(hst_corr_flat, (1 - r) * 100)\n",
    "    mask = hst_corr_flat >= threshold\n",
    "    return mask\n",
    "\n",
    "def get_top(ser: pd.Series, r):\n",
    "    q = ser.quantile(q=(1-r))\n",
    "    mask = ser >= q\n",
    "    return mask\n",
    "\n",
    "def filter_top_hst_correl_ptck(hst_corr: pd.DataFrame, r=0.25, symmetrization=\"and\"):\n",
    "    \"\"\"\n",
    "    Output: 1d boolean mask (n_pairs,)\n",
    "    \"\"\"\n",
    "    if not (0 < r < 1): raise ValueError(f\"r must be between 0 and 1: {r}\")\n",
    "    np.fill_diagonal(hst_corr.values, np.nan)\n",
    "    mask_df = hst_corr.apply(get_top, r=r, axis=0)\n",
    "    if symmetrization == \"and\":\n",
    "        mask_df = mask_df & mask_df.T\n",
    "    elif symmetrization == \"or\":\n",
    "        mask_df = mask_df | mask_df.T\n",
    "    i_indices, j_indices = np.triu_indices(mask_df.shape[0], k=1)\n",
    "    mask = mask_df.to_numpy()[i_indices, j_indices]\n",
    "    return mask\n",
    "\n",
    "def avg_rk_by_decile(c_flat: pd.Series, fc_flat: pd.Series):\n",
    "    deciles_c = pd.qcut(c_flat, q=10, labels=False, duplicates=\"drop\")\n",
    "    avg_rk = fc_flat.rank(pct=True).groupby(deciles_c).mean()\n",
    "    return avg_rk\n",
    "\n",
    "def compute_lreg_metrics(c_flat: np.ndarray, hc_flat: np.ndarray, fc_flat: np.ndarray):\n",
    "    scaler = StandardScaler()\n",
    "    c_flat = scaler.fit_transform(c_flat.reshape(-1, 1))\n",
    "    hc_flat = scaler.fit_transform(hc_flat.reshape(-1, 1))\n",
    "    fc_flat = scaler.fit_transform(fc_flat.reshape(-1, 1))\n",
    "    X_1 = sm.add_constant(hc_flat)\n",
    "    model_1 = sm.OLS(fc_flat, X_1).fit()\n",
    "    X_12 = sm.add_constant(np.hstack((hc_flat, c_flat)))\n",
    "    model_12 = sm.OLS(fc_flat, X_12).fit()\n",
    "    r2_1 = model_1.rsquared\n",
    "    r2_12 = model_12.rsquared\n",
    "    f_test = model_12.compare_f_test(model_1)\n",
    "    p_value = f_test[1]\n",
    "    std_res_1 = np.std(model_1.resid)\n",
    "    std_res_12 = np.std(model_12.resid)\n",
    "    return r2_1 / r2_12, std_res_1 / std_res_12, p_value\n",
    "\n",
    "def compute_metrics(c_flat, hc_flat, fc_flat):\n",
    "    assert len(c_flat) == len(fc_flat)\n",
    "    if hc_flat is not None:\n",
    "        assert len(c_flat) == len(hc_flat)\n",
    "        r2_ratio, std_res_ratio, p_value = compute_lreg_metrics(c_flat, hc_flat, fc_flat)\n",
    "        hc_flat = pd.Series(hc_flat)\n",
    "    else:\n",
    "        r2_ratio, std_res_ratio, p_value = np.nan, np.nan, np.nan\n",
    "    c_flat = pd.Series(c_flat)\n",
    "    fc_flat = pd.Series(fc_flat)\n",
    "    avg_rk = avg_rk_by_decile(c_flat, fc_flat)\n",
    "    spearman = c_flat.rank().corr(fc_flat.rank())\n",
    "    spearman_h = hc_flat.rank().corr(fc_flat.rank()) if hc_flat is not None else np.nan\n",
    "    return avg_rk, spearman, r2_ratio, std_res_ratio, p_value, spearman_h"
   ]
  },
  {
   "cell_type": "code",
   "execution_count": 91,
   "metadata": {},
   "outputs": [],
   "source": [
    "embeddings_da = generate_embeddings_da()\n",
    "id_qis = embeddings_da.index.to_numpy()\n",
    "fwd_corr = generate_correl_matrix(id_qis, seed=0)\n",
    "hst_corr = generate_correl_matrix(id_qis, seed=42)\n",
    "cossim = compute_cossim(embeddings_da)\n"
   ]
  },
  {
   "cell_type": "code",
   "execution_count": 97,
   "metadata": {},
   "outputs": [],
   "source": [
    "mask = filter_top_hst_correl(hst_corr, r=0.25)\n",
    "mask_ptck = filter_top_hst_correl_ptck(hst_corr, r=0.25, symmetrization=\"and\")\n",
    "mask_ptck_or = filter_top_hst_correl_ptck(hst_corr, r=0.25, symmetrization=\"or\")"
   ]
  },
  {
   "cell_type": "code",
   "execution_count": 98,
   "metadata": {},
   "outputs": [
    {
     "data": {
      "text/html": [
       "<div>\n",
       "<style scoped>\n",
       "    .dataframe tbody tr th:only-of-type {\n",
       "        vertical-align: middle;\n",
       "    }\n",
       "\n",
       "    .dataframe tbody tr th {\n",
       "        vertical-align: top;\n",
       "    }\n",
       "\n",
       "    .dataframe thead th {\n",
       "        text-align: right;\n",
       "    }\n",
       "</style>\n",
       "<table border=\"1\" class=\"dataframe\">\n",
       "  <thead>\n",
       "    <tr style=\"text-align: right;\">\n",
       "      <th></th>\n",
       "      <th>6</th>\n",
       "      <th>9</th>\n",
       "      <th>0</th>\n",
       "      <th>2</th>\n",
       "      <th>4</th>\n",
       "    </tr>\n",
       "  </thead>\n",
       "  <tbody>\n",
       "    <tr>\n",
       "      <th>6</th>\n",
       "      <td>NaN</td>\n",
       "      <td>0.11</td>\n",
       "      <td>-0.25</td>\n",
       "      <td>-0.22</td>\n",
       "      <td>-0.23</td>\n",
       "    </tr>\n",
       "    <tr>\n",
       "      <th>9</th>\n",
       "      <td>0.11</td>\n",
       "      <td>NaN</td>\n",
       "      <td>0.84</td>\n",
       "      <td>-0.09</td>\n",
       "      <td>-0.15</td>\n",
       "    </tr>\n",
       "    <tr>\n",
       "      <th>0</th>\n",
       "      <td>-0.25</td>\n",
       "      <td>0.84</td>\n",
       "      <td>NaN</td>\n",
       "      <td>-0.26</td>\n",
       "      <td>-0.53</td>\n",
       "    </tr>\n",
       "    <tr>\n",
       "      <th>2</th>\n",
       "      <td>-0.22</td>\n",
       "      <td>-0.09</td>\n",
       "      <td>-0.26</td>\n",
       "      <td>NaN</td>\n",
       "      <td>-0.34</td>\n",
       "    </tr>\n",
       "    <tr>\n",
       "      <th>4</th>\n",
       "      <td>-0.23</td>\n",
       "      <td>-0.15</td>\n",
       "      <td>-0.53</td>\n",
       "      <td>-0.34</td>\n",
       "      <td>NaN</td>\n",
       "    </tr>\n",
       "  </tbody>\n",
       "</table>\n",
       "</div>"
      ],
      "text/plain": [
       "      6     9     0     2     4\n",
       "6   NaN  0.11 -0.25 -0.22 -0.23\n",
       "9  0.11   NaN  0.84 -0.09 -0.15\n",
       "0 -0.25  0.84   NaN -0.26 -0.53\n",
       "2 -0.22 -0.09 -0.26   NaN -0.34\n",
       "4 -0.23 -0.15 -0.53 -0.34   NaN"
      ]
     },
     "execution_count": 98,
     "metadata": {},
     "output_type": "execute_result"
    }
   ],
   "source": [
    "hst_corr"
   ]
  },
  {
   "cell_type": "code",
   "execution_count": 4,
   "metadata": {},
   "outputs": [
    {
     "data": {
      "text/plain": [
       "12720.0"
      ]
     },
     "execution_count": 4,
     "metadata": {},
     "output_type": "execute_result"
    }
   ],
   "source": [
    "160 * 159 / 2"
   ]
  },
  {
   "cell_type": "code",
   "execution_count": null,
   "metadata": {},
   "outputs": [],
   "source": []
  }
 ],
 "metadata": {
  "kernelspec": {
   "display_name": "py39",
   "language": "python",
   "name": "python3"
  },
  "language_info": {
   "codemirror_mode": {
    "name": "ipython",
    "version": 3
   },
   "file_extension": ".py",
   "mimetype": "text/x-python",
   "name": "python",
   "nbconvert_exporter": "python",
   "pygments_lexer": "ipython3",
   "version": "3.9.19"
  }
 },
 "nbformat": 4,
 "nbformat_minor": 2
}
